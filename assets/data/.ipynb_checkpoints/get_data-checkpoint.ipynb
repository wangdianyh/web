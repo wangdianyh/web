{
 "cells": [
  {
   "cell_type": "code",
   "execution_count": 1,
   "metadata": {
    "collapsed": true
   },
   "outputs": [],
   "source": [
    "'''\n",
    "crawl Playful Kiss (2010) comment from https://mydramalist.com\n",
    "URL: https://mydramalist.com/20-playful-kiss/reviews\n",
    "'''\n",
    "import requests\n",
    "from bs4 import BeautifulSoup\n",
    "import csv"
   ]
  },
  {
   "cell_type": "code",
   "execution_count": 22,
   "metadata": {
    "collapsed": true
   },
   "outputs": [],
   "source": [
    "def get_html(url):\n",
    "    try:\n",
    "        r = requests.get(url, timeout=30)\n",
    "        r.raise_for_status\n",
    "        #site encoding\n",
    "        r.encoding = 'utf-8'\n",
    "        return r.text\n",
    "    except:\n",
    "        print('ERROR')"
   ]
  },
  {
   "cell_type": "code",
   "execution_count": 120,
   "metadata": {},
   "outputs": [],
   "source": [
    "dramaComments = []\n",
    "def get_content(url):\n",
    "    html = get_html(url)\n",
    "    soup = BeautifulSoup(html, 'lxml')\n",
    "\n",
    "    # find comment list\n",
    "    commentList = soup.find('div', class_='app-body')\n",
    "    comments = commentList.find_all('div', class_='review')\n",
    "\n",
    "    for comment in comments:\n",
    "        data = {}\n",
    "        \n",
    "        data['name'] = comment.find('a', class_='text-primary').text\n",
    "        data['review'] = ''\n",
    "        try:\n",
    "            review = comment.find('div', class_='review-body').contents[2:-4]\n",
    "        except:\n",
    "            print(\"error: review-bodyfull-read\")\n",
    "            review = comment.find('div', class_='review-bodyfull-read').contents[2:]\n",
    "            pass\n",
    "        \n",
    "        for item in review:\n",
    "            if(isinstance(item, str)):\n",
    "                data['review'] += item.strip()\n",
    "        #get review text without br\n",
    "        \n",
    "        data['vote'] = comment.find('div', class_='user-stats').small.b.text\n",
    "        data['overall'] = comment.find('div', class_='rating-overall').b.span.text\n",
    "        data['story'] = comment.find('div', class_='review-rating').findChildren()[1].text\n",
    "        data['cast'] = comment.find('div', class_='review-rating').findChildren()[2].span.text\n",
    "        data['music'] = comment.find('div', class_='review-rating').findChildren()[4].span.text\n",
    "        data['rewatch'] = comment.find('div', class_='review-rating').findChildren()[6].span.text\n",
    "        \n",
    "        dramaComments.append(data)\n",
    "        \n",
    "    \n",
    "    return dramaComments"
   ]
  },
  {
   "cell_type": "code",
   "execution_count": 24,
   "metadata": {
    "collapsed": true
   },
   "outputs": [],
   "source": [
    "# write download contents to local file\n",
    "def saveCSV(contents):\n",
    "    res = ['name', 'review','vote', 'overall', 'story', 'cast', 'music', 'rewatch']\n",
    "    with  open('review_new.csv', 'a+') as f:\n",
    "        \n",
    "        wr = csv.writer(f, quoting=csv.QUOTE_ALL, lineterminator='\\n')\n",
    "        wr.writerow(res)\n",
    "        for comment in contents:\n",
    "            wr.writerow(comment.values())"
   ]
  },
  {
   "cell_type": "code",
   "execution_count": 121,
   "metadata": {
    "collapsed": true
   },
   "outputs": [],
   "source": [
    "def main():\n",
    "    url = 'https://mydramalist.com/20-playful-kiss/reviews?page='\n",
    "    urlList = []\n",
    "    page = 8\n",
    "    \n",
    "    for i in range(page):\n",
    "        urlList.append(url + str(i + 1))\n",
    "\n",
    "    for url in urlList:\n",
    "        content = get_content(url)\n",
    "    \n",
    "    saveCSV(content)"
   ]
  },
  {
   "cell_type": "code",
   "execution_count": 119,
   "metadata": {},
   "outputs": [
    {
     "name": "stdout",
     "output_type": "stream",
     "text": [
      "error:\n",
      "error:\n"
     ]
    }
   ],
   "source": [
    "main()"
   ]
  },
  {
   "cell_type": "code",
   "execution_count": null,
   "metadata": {
    "collapsed": true
   },
   "outputs": [],
   "source": []
  }
 ],
 "metadata": {
  "kernelspec": {
   "display_name": "Python 3",
   "language": "python",
   "name": "python3"
  },
  "language_info": {
   "codemirror_mode": {
    "name": "ipython",
    "version": 3
   },
   "file_extension": ".py",
   "mimetype": "text/x-python",
   "name": "python",
   "nbconvert_exporter": "python",
   "pygments_lexer": "ipython3",
   "version": "3.6.3"
  }
 },
 "nbformat": 4,
 "nbformat_minor": 2
}
