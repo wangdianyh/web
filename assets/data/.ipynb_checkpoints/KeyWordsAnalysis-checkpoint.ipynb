{
 "cells": [
  {
   "cell_type": "code",
   "execution_count": 1,
   "metadata": {
    "collapsed": true
   },
   "outputs": [],
   "source": [
    "import pandas as pd"
   ]
  },
  {
   "cell_type": "code",
   "execution_count": 13,
   "metadata": {},
   "outputs": [
    {
     "name": "stdout",
     "output_type": "stream",
     "text": [
      "showing info https://raw.githubusercontent.com/nltk/nltk_data/gh-pages/index.xml\n"
     ]
    },
    {
     "data": {
      "text/plain": [
       "True"
      ]
     },
     "execution_count": 13,
     "metadata": {},
     "output_type": "execute_result"
    }
   ],
   "source": [
    "import nltk\n",
    "nltk.download()"
   ]
  },
  {
   "cell_type": "code",
   "execution_count": 11,
   "metadata": {
    "collapsed": true
   },
   "outputs": [],
   "source": [
    "from nltk.corpus import stopwords\n",
    "from nltk.tokenize import sent_tokenize, word_tokenize\n",
    "from nltk.probability import FreqDist\n",
    "from nltk import collocations\n",
    "from nltk.stem import WordNetLemmatizer"
   ]
  },
  {
   "cell_type": "code",
   "execution_count": 8,
   "metadata": {},
   "outputs": [],
   "source": [
    "#import csv\n",
    "data = pd.read_csv('review_new.csv')"
   ]
  },
  {
   "cell_type": "code",
   "execution_count": 9,
   "metadata": {},
   "outputs": [
    {
     "data": {
      "text/plain": [
       "0    As with Boys Over Flowers, I am almost afraid ...\n",
       "1    READ THIS IF YOU WANT A UNIQUE PERSPECTIVE OF ...\n",
       "2    1-The reason I watched this : As a huge fan of...\n",
       "3    I wasn't intending to watch another version of...\n",
       "4    Funny how there's nothing really special about...\n",
       "Name: review, dtype: object"
      ]
     },
     "execution_count": 9,
     "metadata": {},
     "output_type": "execute_result"
    }
   ],
   "source": [
    "review_data = data['review']\n",
    "review_data.head()"
   ]
  },
  {
   "cell_type": "code",
   "execution_count": 10,
   "metadata": {
    "collapsed": true
   },
   "outputs": [],
   "source": [
    "stopWords = set(stopwords.words('English'))"
   ]
  },
  {
   "cell_type": "code",
   "execution_count": 12,
   "metadata": {},
   "outputs": [
    {
     "name": "stdout",
     "output_type": "stream",
     "text": [
      "['boys', 'flowers', 'almost', 'afraid', 'review', 'fear', 'flames', 'like', 'drama', 'reasons', 'like', 'woman', 'blindly', 'stupidly', 'follows', 'man', 'mostly', 'could', 'care', 'less', 'treats', 'like', 'crap', 'regular', 'like', 'teenage', 'girl', 'portrayed', 'completely', 'without', 'sense', 'kind', 'even', 'worse', 'encouraged', 'said', 'boy', 'mother', 'mother', 'helps', 'stalk', 'son', 'liked', 'actress', 'much', 'wrap', 'mind', 'old', 'one', 'like', 'message', 'sends', 'going', 'story', 'forgive', 'lot', 'ridiculous', 'romantic', 'side', 'one', 'left', 'wanting', 'yell', 'girl', 'shake', 'blind', 'like', 'boy', 'kind', 'redeems', 'toward', 'end', 'wakes', 'last', 'minute', 'kind', 'enough', 'read', 'want', 'unique', 'perspective', 'dramai', 'hope', 'take', 'moment', 'read', 'best', 'writer', 'wrote', 'lot', 'reviews', 'yet', 'one', 'forced', 'hand', 'hope', 'waste', 'time', 'also', 'hope', 'give', 'perspective', 'consideration', 'thought', 'many', 'times', 'start', 'review', 'however', 'think', 'emphatic', 'enough', 'kdrama', 'affected', 'matter', 'much', 'well', 'go', 'playful', 'kiss', 'pure', 'heartfelt', 'joy', 'likely', 'going', 'come', 'somewhat', 'unique', 'angle', 'immediately', 'share', 'read', 'much', 'hate', 'criticisms', 'drama', 'mostly', 'oh', 'ha', 'ni', 'puppy', 'dog', 'love', 'incessant', 'pursuit', 'baek', 'seung', 'jo', 'deal', 'later', 'huge', 'whatever', 'see', 'made', 'look', 'dependent', 'stalker', 'etc', 'even', 'took', 'exception', 'mother', 'encouraging', 'makes', 'wonder', 'watching', 'opinion', 'said', 'cover', 'later', 'really', 'want', 'make', 'negative', 'drama', 'purely', 'short', 'preamble', 'sorts', 'relatively', 'new', 'kdrama', 'around', 'belt', 'writing', 'review', 'think', 'fairly', 'well', 'rounded', 'resume', 'peruse', 'list', 'like', 'never', 'watched', 'one', 'like', 'kiss', 'apparently', 'left', 'many', 'sinister', 'tropes', 'behind', 'overbearing', 'parent', 'evil', 'person', 'school', 'work', 'wherever', 'serves', 'antagonist', 'heal', 'one', 'several', 'dramas', 'completely', 'devoid', 'blew', 'away', 'pure', 'love', 'warmth', 'heart', 'believe', 'watched', 'anything', 'like', 'life', 'american', 'purity', 'tv', 'left', 'decades', 'ago', 'closest', 'get', 'shlock', 'filled', 'syrupy', 'inane', 'dramas', 'like', 'abc', 'family', 'deep', 'puddle', 'interesting', 'insurance', 'forms', 'drama', 'spunk', 'loads', 'real', 'laughs', 'yes', 'mostly', 'expense', 'oh', 'ha', 'ni', 'sweetest', 'way', 'wrote', 'forum', 'part', 'drama', 'completely', 'compared', 'jone', 'diary', 'said', 'jone', 'diary', 'would', 'adult', 'rated', 'version', 'would', 'high', 'school', 'family', 'equivalent', 'hapless', 'hopeless', 'romantic', 'lead', 'protagonist', 'went', 'great', 'lengths', 'often', 'made', 'fools', 'man', 'jone', 'diary', 'critical', 'darling', 'kiss', 'descent', 'rating', 'mydramalist', 'way', 'many', 'high', 'brow', 'people', 'looking', 'noses', 'oh', 'ha', 'ni', 'vulnerable', 'often', 'let', 'man', 'define', 'yada', 'yada', 'yada', 'first', 'question', 'um', 'bong', 'joon', 'gu', 'every', 'bit', 'clingy', 'oh', 'ha', 'ni', 'even', 'continued', 'married', 'told', 'seung', 'jo', 'house', 'would', 'yes', 'writers', 'director', 'brought', 'chris', 'turn', 'joon', 'gu', 'head', 'end', 'still', 'clinging', 'ha', 'ni', 'one', 'mentions', 'exhibiting', 'behavior', 'character', 'sexist', 'bring', 'undue', 'attention', 'female', 'something', 'male', 'largely', 'guilty', 'thing', 'every', 'bit', 'shining', 'armour', 'joon', 'gu', 'said', 'much', 'ha', 'ni', 'went', 'growth', 'arch', 'series', 'bridget', 'end', 'confident', 'seung', 'jo', 'every', 'bit', 'taken', 'matured', 'working', 'theory', 'many', 'pointing', 'ha', 'ni', 'supposed', 'least', 'american', 'perspective', 'likely', 'european', 'perspective', 'cynicism', 'gotten', 'show', 'selling', 'oneself', 'another', 'show', 'weakness', 'think', 'lot', 'relationships', 'marriages', 'would', 'go', 'lot', 'individuals', 'give', 'completely', 'pc', 'especially', 'woman', 'want', 'give', 'totally', 'often', 'worded', 'hedge', 'someone', 'may', 'cry', 'semantics', 'giving', 'way', 'think', 'reached', 'end', 'albeit', 'seung', 'jo', 'much', 'reserved', 'exhibiting', 'devotion', 'wish', 'coming', 'defense', 'stronger', 'alas', 'beginning', 'devotion', 'lampooned', 'admitted', 'many', 'times', 'one', 'sided', 'perseverance', 'paid', 'think', 'many', 'judged', 'unfairly', 'nothing', 'sordid', 'anything', 'deserving', 'reproach', 'full', 'sure', 'articulated', 'point', 'well', 'enough', 'point', 'move', 'complained', 'loved', 'kim', 'hyun', 'joong', 'betting', 'devotees', 'hyun', 'joong', 'nearly', 'starry', 'eyed', 'ha', 'ni', 'handsome', 'however', 'seems', 'one', 'note', 'actor', 'moment', 'seen', 'flowers', 'hate', 'director', 'wants', 'science', 'hyun', 'joong', 'performance', 'nearly', 'extension', 'yoon', 'ji', 'hoo', 'however', 'drove', 'movie', 'touched', 'heart', 'much', 'drama', 'merely', 'pawn', 'ha', 'ni', 'carrot', 'say', 'way', 'plays', 'part', 'tone', 'change', 'hits', 'viewer', 'feels', 'series', 'acts', 'arrogant', 'brooding', 'time', 'lower', 'guard', 'shows', 'love', 'ha', 'ni', 'viewer', 'always', 'feels', 'however', 'series', 'acknowledges', 'friends', 'mother', 'always', 'even', 'little', 'worshiping', 'brother', 'near', 'end', 'acknowledge', 'personality', 'issues', 'point', 'seems', 'rather', 'silly', 'everyone', 'knows', 'lol', 'known', 'flaw', 'would', 'expose', 'flaws', 'seemingly', 'perfect', 'demeanor', 'ha', 'ni', 'wears', 'flaws', 'sleeve', 'everyone', 'see', 'every', 'one', 'freely', 'talks', 'heart', 'felt', 'feeling', 'end', 'drama', 'nothing', 'love', 'permeated', 'entire', 'series', 'warmth', 'never', 'wavered', 'would', 'love', 'live', 'cocoon', 'ha', 'ni', 'spite', 'flaws', 'brought', 'warmth', 'everyone', 'touched', 'everyone', 'surrounding', 'brought', 'love', 'friends', 'father', 'seung', 'jo', 'parents', 'joon', 'gu', 'senior', 'homeroom', 'teacher', 'even', 'yoon', 'ha', 'rae', 'jung', 'min', 'radiant', 'played', 'part', 'well', 'could', 'hope', 'way', 'stumbled', 'way', 'bit', 'lip', 'way', 'shrunk', 'knew', 'screwed', 'get', 'teary', 'eyed', 'thinking', 'special', 'role', 'hate', 'character', 'get', 'bit', 'naïve', 'sure', 'pure', 'every', 'action', 'could', 'cheer', 'seung', 'jo', 'mother', 'geum', 'hee', 'came', 'defense', 'pointed', 'heart', 'brought', 'lives', 'awe', 'would', 'love', 'flesh', 'examples', 'friends', 'seung', 'jo', 'family', 'etc', 'touch', 'little', 'lead', 'captivation', 'series', 'could', 'imagine', 'friends', 'ha', 'ni', 'includes', 'joon', 'gu', 'father', 'gentle', 'worked', 'hard', 'gave', 'daughter', 'however', 'ones', 'filled', 'heart', 'seung', 'jo', 'parents', 'yes', 'first', 'mother', 'geum', 'hee', 'seemed', 'seemed', 'screw', 'loose', 'weird', 'least', 'faded', 'quickly', 'character', 'explained', 'deeper', 'became', 'second', 'ha', 'ni', 'beloved', 'seems', 'right', 'since', 'meant', 'similar', 'mirrors', 'one', 'another', 'pouring', 'support', 'uncompromising', 'support', 'ha', 'ni', 'dad', 'profound', 'brought', 'buckets', 'tears', 'tears', 'sobbed', 'many', 'times', 'series', 'tears', 'joy', 'tears', 'sharing', 'heartache', 'always', 'pure', 'heartache', 'never', 'malicious', 'heartache', 'type', 'comes', 'life', 'people', 'come', 'go', 'say', 'good', 'bye', 'heart', 'good', 'byes', 'misty', 'eyed', 'tell', 'boys', 'painful', 'things', 'life', 'good', 'maybe', 'conclude', 'cynicism', 'series', 'garnered', 'truly', 'baffling', 'charming', 'start', 'finish', 'happy', 'ending', 'everyone', 'finding', 'love', 'unrealistic', 'people', 'right', 'life', 'mired', 'pain', 'suffering', 'hatred', 'bigotry', 'gossiping', 'backstabbing', 'greed', 'many', 'morose', 'happenings', 'thank', 'god', 'series', 'bliss', 'start', 'finish', 'mild', 'bumps', 'along', 'way', 'tell', 'plenty', 'dramas', 'explore', 'ugly', 'parts', 'life', 'nice', 'experience', 'story', 'people', 'good', 'helpful', 'sound', 'glorious', 'live', 'atrocity', 'would', 'want', 'champion', 'watch', 'series', 'would', 'want', 'escape', 'gentle', 'sweet', 'world', 'largely', 'exist', 'real', 'world', 'would', 'nice', 'marriage', 'years', 'end', 'lies', 'wife', 'committing', 'adultery', 'broken', 'family', 'divorce', 'etc', 'tired', 'breath', 'fresh', 'air', 'live', 'drama', 'little', 'ordered', 'dvd', 'bought', 'soundtrack', 'seek', 'dramas', 'like', 'still', 'watch', 'love', 'dramas', 'usually', 'kdrama', 'tropes', 'expect', 'story', 'devices', 'life', 'shaking', 'head', 'lose', 'series', 'moment', 'realize', 'people', 'treat', 'reason', 'watched', 'huge', 'fan', 'itazura', 'na', 'kiss', 'hunting', 'dramas', 'adaptations', 'adaptation', 'saw', 'disappointing', 'drama', 'cut', 'many', 'events', 'manga', 'changes', 'original', 'story', 'plot', 'foolishness', 'childish', 'events', 'happy', 'romantic', 'sometimes', 'sad', 'dramatic', 'moments', 'present', 'brought', 'back', 'lot', 'memories', 'one', 'favorite', 'stories', 'ever', 'fun', 'see', 'adaptation', 'even', 'though', 'really', 'dazzled', 'since', 'lacked', 'many', 'important', 'like', 'kim', 'hyun', 'joong', 'attractive', 'let', 'face', 'hes', 'great', 'actor', 'plus', 'beak', 'seung', 'jo', 'coldness', 'really', 'exagerated', 'sometimes', 'yet', 'reminds', 'naoki', 'personality', 'oh', 'ha', 'ni', 'stupid', 'stalker', 'never', 'found', 'character', 'annoying', 'probably', 'much', 'better', 'kotoko', 'jversion', 'supporting', 'roles', 'really', 'great', 'especially', 'baek', 'seung', 'jo', 'mother', 'character', 'really', 'good', 'watch', 'nice', 'change', 'evil', 'mothers', 'korean', 'dramas', 'plus', 'bong', 'joon', 'gu', 'oh', 'ha', 'ni', 'friends', 'remind', 'ending', 'well', 'youtube', 'edition', 'considered', 'end', 'would', 'much', 'bette', 'extended', 'made', 'second', 'season', 'much', 'core', 'like', 'impression', 'felt', 'story', 'itazura', 'na', 'kiss', 'importantly', 'able', 'gorget', 'disappointment', 'even', 'though', 'wanted', 'little', 'different', 'hate', 'itazura', 'na', 'kiss', 'fan', 'need', 'watch', 'like', 'may', 'like', 'like', 'seeing', 'cute', 'cast', 'theb', 'would', 'like', 'korean', 'version', 'medium', 'disappointing', 'japanese', 'version', 'marvelous', 'taiwanese', 'version', 'intending', 'watch', 'another', 'version', 'itazura', 'na', 'kiss', 'right', 'finishing', 'one', 'netflix', 'limited', 'selection', 'dramas', 'queue', 'years', 'decided', 'give', 'shot', 'despite', 'generally', 'low', 'reviews', 'liked', 'story', 'last', 'version', 'watched', 'really', 'anything', 'different', 'going', 'think', 'paced', 'well', 'liked', 'got', 'see', 'high', 'school', 'went', 'college', 'also', 'liked', 'got', 'see', 'happened', 'lot', 'romantic', 'comedies', 'end', 'little', 'rushed', 'end', 'cram', 'probably', 'would', 'beginning', 'second', 'season', 'like', 'fantasy', 'sequences', 'especially', 'beginning', 'tapered', 'also', 'thought', 'scenes', 'felt', 'contrived', 'seem', 'follow', 'natural', 'progression', 'seemed', 'like', 'said', 'get', 'made', 'scene', 'fit', 'situation', 'without', 'much', 'thought', 'liked', 'jung', 'min', 'oh', 'ha', 'ni', 'think', 'almost', 'unfair', 'talk', 'stalkery', 'story', 'depends', 'stalker', 'like', 'despite', 'fact', 'kept', 'coming', 'back', 'sense', 'least', 'angry', 'upset', 'way', 'baek', 'seung', 'jo', 'treated', 'hyun', 'joong', 'baek', 'seung', 'jo', 'wonderful', 'awful', 'lot', 'less', 'cold', 'detached', 'deliberately', 'mean', 'times', 'kind', 'intolerable', 'remind', 'little', 'lee', 'shin', 'goong', 'makes', 'sense', 'seeing', 'directors', 'nearly', 'awful', 'person', 'would', 'thing', 'walked', 'away', 'smiled', 'thought', 'like', 'second', 'lead', 'relationship', 'ha', 'ni', 'bong', 'joon', 'gu', 'almost', 'became', 'necessary', 'one', 'never', 'seemed', 'like', 'ha', 'ni', 'considered', 'close', 'friend', 'feel', 'chemistry', 'actors', 'way', 'chemistry', 'ha', 'ni', 'friend', 'especially', 'joo', 'ri', 'ha', 'ni', 'stalking', 'seung', 'jo', 'joon', 'gu', 'step', 'away', 'locking', 'enjoyed', 'lot', 'secondary', 'cast', 'mother', 'really', 'fun', 'watch', 'also', 'liked', 'kyung', 'music', 'register', 'netflix', 'show', 'intro', 'even', 'hear', 'song', 'later', 'like', 'song', 'bye', 'bye', 'sea', 'enjoyed', 'band', 'playing', 'enjoyed', 'playful', 'kiss', 'hard', 'compare', 'one', 'seen', 'love', 'tokyo', 'things', 'liked', 'better', 'one', 'things', 'liked', 'better', 'end', 'liked', 'one', 'little', 'bit', 'liked', 'ha', 'ni', 'embarrassing', 'moments', 'ha', 'ni', 'less', 'ridiculous', 'feel', 'need', 'turn', 'times', 'know', 'watch', 'enjoyed', 'watching', 'side', 'note', 'love', 'bear', 'endings', 'funny', 'nothing', 'really', 'special', 'yet', 'super', 'cute', 'watch', 'even', 'main', 'characters', 'practically', 'chemistry', 'together', 'still', 'make', 'heart', 'pound', 'emphathetic', 'angst', 'least', 'every', 'episode', 'little', 'long', 'end', 'second', 'last', 'episode', 'atrocious', 'overall', 'fun', 'little', 'watch', 'honestly', 'thought', 'would', 'hate', 'found', 'enjoying', 'forgive', 'fan', 'main', 'role', 'gon', 'na', 'make', 'review', 'drama', 'since', 'read', 'reviews', 'thought', 'one', 'first', 'may', 'seem', 'like', 'drama', 'kind', 'man', 'serious', 'bit', 'snob', 'handsome', 'looking', 'female', 'lead', 'pretty', 'weak', 'character', 'liked', 'till', 'scenes', 'girl', 'wrote', 'guy', 'feeling', 'instead', 'guy', 'like', 'belittled', 'guy', 'shame', 'everybody', 'school', 'saw', 'heard', 'great', 'start', 'thinking', 'story', 'turn', 'way', 'around', 'till', 'end', 'warning', 'never', 'changed', 'situation', 'would', 'seems', 'story', 'right', 'ok', 'watch', 'want', 'someone', 'pride', 'watch', 'waste', 'time', 'love', 'dramas', 'know', 'good', 'one', 'see', 'terrible', 'drama', 'acting', 'story', 'disappointing', 'seen', 'tawainese', 'version', 'feel', 'love', 'compare', 'two', 'clear', 'korean', 'version', 'falls', 'short', 'characters', 'potrayed', 'well', 'rival', 'guy', 'even', 'rival', 'ignored', 'drama', 'really', 'thing', 'like', 'music', 'woman', 'played', 'mother', 'hilarious', 'watched', 'entire', 'thing', 'waste', 'time', 'also', 'watched', 'short', 'episodes', 'end', 'okay', 'fall', 'good', 'looking', 'actors', 'joke', 'drama', 'falls', 'short', 'good', 'manga', 'adaption', 'saw', 'kim', 'hyun', 'joong', 'lead', 'drama', 'went', 'wild', 'even', 'though', 'huge', 'fan', 'boys', 'flowers', 'like', 'loved', 'hyun', 'joong', 'ji', 'hoo', 'naturally', 'started', 'watching', 'sooo', 'wanted', 'like', 'drama', 'blame', 'go', 'writers', 'drama', 'cause', 'story', 'sucked', 'big', 'time', 'hyun', 'joong', 'decent', 'job', 'acting', 'like', 'said', 'crap', 'role', 'got', 'landed', 'instead', 'acting', 'ability', 'cause', 'seen', 'dramas', 'much', 'better', 'ha', 'ni', 'hand', 'horrible', 'script', 'go', 'also', 'good', 'actress', 'terrible', 'either', 'like', 'said', 'main', 'fault', 'lies', 'writers', 'made', 'oh', 'ha', 'ni', 'biggest', 'stalker', 'time', 'even', 'asian', 'drama', 'standards', 'character', 'super', 'creepy', 'obsessive', 'course', 'know', 'gon', 'na', 'get', 'together', 'end', 'dramas', 'annoying', 'girl', 'snob', 'guy', 'finally', 'find', 'middle', 'ground', 'understand', 'relationship', 'playful', 'kiss', 'however', 'honestly', 'understand', 'hyun', 'joong', 'character', 'falls', 'oh', 'ha', 'ni', 'cuteness', 'already', 'predictable', 'story', 'almost', 'unbearable', 'multiple', 'times', 'wanted', 'give', 'stop', 'watching', 'thing', 'kept', 'going', 'deep', 'dislike', 'finishing', 'dramas', 'would', 'ditched', 'drama', 'first', 'three', 'maybe', 'im', 'harsh', 'perhaps', 'one', 'day', 'go', 'back', 'say', 'worst', 'drama', 'ever', 'watched', 'probably', 'make', 'people', 'mad', 'review', 'needs', 'said', 'watched', 'drama', 'kim', 'hyun', 'joong', 'positive', 'drama', 'seemed', 'following', 'like', 'despite', 'hyun', 'joong', 'ability', 'pull', 'aloof', 'character', 'masterfully', 'drama', 'frustrating', 'say', 'least', 'like', 'yell', 'characters', 'time', 'time', 'part', 'experience', 'like', 'watching', 'yeah', 'ca', 'hear', 'makes', 'fell', 'better', 'drama', 'wanted', 'slap', 'oh', 'ha', 'ni', 'played', 'jung', 'min', 'pathetic', 'submissive', 'substance', 'feel', 'like', 'could', 'omitted', 'story', 'would', 'mattered', 'romance', 'yet', 'pathetic', 'nature', 'make', 'enduring', 'like', 'intended', 'made', 'character', 'pathetic', 'additionally', 'characters', 'seemed', 'come', 'go', 'series', 'went', 'added', 'real', 'substance', 'story', 'point', 'felt', 'missed', 'important', 'part', 'story', 'line', 'mom', 'brother', 'also', 'irritating', 'times', 'mean', 'really', 'mom', 'involved', 'made', 'get', 'married', 'right', 'brother', 'little', 'annoying', 'continually', 'would', 'suggest', 'drama', 'anyone', 'unless', 'wanted', 'watch', 'hyun', 'joong', 'sorry', 'fans', 'loved', 'drama', 'found', 'little', 'redeeming', 'drama', 'believe', 'finishing', 'every', 'drama', 'start', 'would', 'one', 'dropped', 'lover', 'itazura', 'na', 'kiss', 'anime', 'manga', 'really', 'liked', 'version', 'story', 'found', 'actors', 'brought', 'uniqueness', 'characters', 'right', 'baek', 'seung', 'jo', 'coldness', 'oh', 'ha', 'ni', 'annoying', 'stupidity', 'make', 'fall', 'love', 'dispite', 'much', 'wan', 'na', 'hit', 'think', 'fall', 'drama', 'enough', 'moments', 'main', 'couple', 'maybe', 'personal', 'wish', 'see', 'kim', 'hyun', 'joong', 'recommend', 'drama', 'watching', 'one', 'worst', 'dramas', 'first', 'look', 'sounds', 'amazing', 'episodes', 'one', 'feels', 'like', 'throttling', 'writer', 'could', 'gem', 'show', 'coz', 'heroine', 'hero', 'good', 'looking', 'jst', 'went', 'coulnt', 'understand', 'guy', 'like', 'managed', 'gal', 'like', 'though', 'dumb', 'vry', 'kind', 'hearted', 'hard', 'working', 'less', 'makes', 'dumb', 'hated', 'hero', 'didnt', 'find', 'chemistry', 'guy', 'treated', 'girl', 'like', 'im', 'sure', 'girl', 'would', 'run', 'far', 'could', 'good', 'drama', 'bad', 'directing', 'writing', 'part', 'sure', 'start', 'watched', 'anime', 'version', 'least', 'growth', 'change', 'story', 'end', 'usually', 'drama', 'adaptations', 'better', 'case', 'watched', 'entire', 'series', 'even', 'sure', 'went', 'thing', 'really', 'bothers', 'kim', 'hyun', 'joong', 'character', 'static', 'unmoving', 'eventually', 'makes', 'feel', 'bitter', 'resentful', 'towards', 'jung', 'min', 'character', 'adorable', 'hard', 'working', 'sure', 'everyone', 'expecting', 'change', 'since', 'obvious', 'purpose', 'show', 'illustrate', 'kim', 'character', 'opens', 'heart', 'unconditional', 'love', 'kindness', 'think', 'ultimately', 'people', 'get', 'upset', 'ha', 'ni', 'seems', 'like', 'loses', 'respect', 'kim', 'acting', 'almost', 'worse', 'show', 'boys', 'flowers', 'like', 'even', 'try', 'different', 'character', 'different', 'mannerisms', 'kim', 'starring', 'role', 'shows', 'stand', 'look', 'pretty', 'since', 'hurts', 'whenever', 'tries', 'act', 'okay', 'hate', 'saying', 'try', 'say', 'something', 'nice', 'drama', 'like', 'parents', 'jung', 'character', 'friends', 'liked', 'relationship', 'ha', 'ni', 'seung', 'jo', 'mom', 'think', 'story', 'potential', 'good', 'great', 'drama', 'first', 'one', 'actually', 'put', 'netflix', 'let', 'break', 'four', 'story', 'exactly', 'like', 'original', 'although', 'never', 'watched', 'original', 'recommend', 'watching', 'one', 'even', 'though', 'extremely', 'cheesy', 'first', 'gets', 'much', 'cast', 'never', 'left', 'eyes', 'stray', 'knew', 'doubt', 'annoyed', 'characters', 'except', 'drama', 'scenes', 'pop', 'value', 'like', 'watch', 'funny', 'moments', 'mean', 'moments', 'still', 'make', 'laugh', 'cheesiness', 'really', 'recommend', 'watch', 'basically', 'story', 'starts', 'slow', 'fall', 'love', 'cast', 'go', 'along', 'story', 'keeps', 'getting', 'better', 'watch', 'drama', 'disappoint', 'word', 'ariana', 'really', 'love', 'short', 'far', 'better', 'thetaiwan', 'kim', 'hyun', 'joong', 'super', 'cool', 'drama', 'female', 'lead', 'also', 'think', 'taiwan', 'version', 'dragging', 'think', 'playful', 'kiss', 'colorful', 'must', 'bof', 'kim', 'hyun', 'joong', 'sweet', 'wanted', 'female', 'lead', 'marry', 'last', 'since', 'didnt', 'end', 'like', 'didnt', 'satisfy', 'playfull', 'kiss', 'awesome', 'watched', 'times', 'still', 'wanted', 'watch', 'especially', 'baek', 'seung', 'jo', 'mom', 'good', 'day', 'know', 'finished', 'watching', 'want', 'harsh', 'drama', 'sure', 'people', 'wonderful', 'bordered', 'elements', 'nice', 'cast', 'attractive', 'female', 'lead', 'oh', 'ha', 'ni', 'somewhat', 'sute', 'manner', 'problems', 'drama', 'kim', 'hyun', 'joong', 'attractive', 'hell', 'yes', 'fantastic', 'actor', 'believe', 'kim', 'hyun', 'joong', 'improves', 'previous', 'efforst', 'drama', 'combination', 'limited', 'acting', 'repertiore', 'combined', 'terrible', 'script', 'makes', 'character', 'hard', 'love', 'hard', 'love', 'mean', 'plot', 'want', 'spend', 'girl', 'waste', 'years', 'life', 'chasing', 'bastard', 'pay', 'attention', 'love', 'lives', 'random', 'people', 'knew', 'high', 'school', 'facebook', 'friends', 'story', 'goes', 'absolutely', 'nowhere', 'message', 'show', 'basically', 'girl', 'smart', 'ridiculed', 'confesses', 'love', 'smart', 'guy', 'real', 'expletive', 'chases', 'shuts', 'keeps', 'chasing', 'leads', 'repeat', 'yes', 'girls', 'matter', 'nothing', 'good', 'treats', 'horribly', 'keep', 'going', 'back', 'attractive', 'worth', 'continues', 'build', 'whole', 'life', 'around', 'enough', 'ending', 'guess', 'watched', 'finish', 'hope', 'ending', 'would', 'feature', 'whole', 'heap', 'kim', 'hyun', 'joong', 'like', 'sooo', 'sorry', 'thought', 'great', 'really', 'lucky', 'put', 'happen', 'sure', 'many', 'people', 'like', 'yay', 'dating', 'marriage', 'however', 'even', 'became', 'couple', 'still', 'became', 'ridiculously', 'neurotic', 'partially', 'thanks', 'khj', 'still', 'even', 'nice', 'things', 'audience', 'know', 'never', 'great', 'could', 'feel', 'connection', 'characters', 'find', 'one', 'lead', 'bully', 'chronic', 'victim', 'feel', 'little', 'bit', 'equality', 'relationship', 'may', 'found', 'passable', 'think', 'would', 'watchable', 'bit', 'boring', 'felt', 'little', 'ashamed', 'story', 'audience', 'type', 'relationship', 'ever', 'understand', 'review', 'go', 'popular', 'view', 'get', 'truly', 'invested', 'playful', 'kiss', 'third', 'drama', 'watched', 'first', 'episode', 'turned', 'top', 'campy', 'much', 'everything', 'enough', 'anything', 'draw', 'went', 'back', 'watching', 'something', 'remember', 'hulu', 'many', 'korean', 'taiwanese', 'japanese', 'dramas', 'choose', 'could', 'easily', 'find', 'combined', 'fact', 'really', 'become', 'fully', 'addicted', 'meant', 'take', 'time', 'look', 'around', 'moved', 'instead', 'trying', 'something', 'else', 'however', 'week', 'decided', 'give', 'playful', 'kiss', 'another', 'shot', 'second', 'episode', 'bad', 'third', 'alright', 'forth', 'never', 'really', 'felt', 'invested', 'story', 'involved', 'characters', 'like', 'city', 'hunter', 'boys', 'flowers', 'picked', 'drama', 'absolutely', 'loved', 'kim', 'hyun', 'joong', 'boys', 'flowers', 'reason', 'learned', 'lesson', 'watching', 'drama', 'bias', 'research', 'story', 'reviews', 'devoting', 'really', 'liked', 'idea', 'story', 'girl', 'huge', 'crush', 'arrogant', 'boy', 'series', 'unfortunate', 'events', 'two', 'families', 'living', 'together', 'slowly', 'arrogant', 'boy', 'sees', 'girl', 'soul', 'mate', 'totally', 'sweet', 'cute', 'idea', 'pretty', 'excited', 'see', 'however', 'execution', 'story', 'lacking', 'kept', 'wanting', 'like', 'kept', 'wanting', 'move', 'kept', 'wanting', 'show', 'never', 'got', 'entire', 'shore', 'saw', 'little', 'growth', 'characters', 'remained', 'immature', 'aloof', 'show', 'began', 'wanted', 'see', 'development', 'oh', 'ha', 'ni', 'much', 'could', 'done', 'show', 'growing', 'yet', 'remained', 'perpetually', 'child', 'actions', 'mentality', 'baek', 'seung', 'jo', 'never', 'seemed', 'change', 'began', 'narcissistic', 'egotistical', 'character', 'ended', 'exactly', 'baek', 'seung', 'jo', 'admitted', 'loved', 'oh', 'ha', 'ni', 'cold', 'hated', 'warmth', 'affection', 'certainly', 'chemistry', 'main', 'couple', 'totally', 'fell', 'short', 'left', 'though', 'lead', 'couple', 'really', 'meet', 'expectations', 'loved', 'secondary', 'couple', 'bong', 'joon', 'gu', 'chris', 'absolutely', 'adorable', 'moment', 'came', 'noodle', 'house', 'stared', 'bong', 'joon', 'gu', 'puppy', 'love', 'gaze', 'loved', 'real', 'emotion', 'reaction', 'however', 'bromance', 'fathers', 'oh', 'ki', 'dong', 'baek', 'soo', 'chang', 'amazing', 'every', 'time', 'scene', 'together', 'loved', 'cute', 'together', 'wanted', 'see', 'top', 'oh', 'ha', 'ni', 'relationship', 'father', 'oh', 'ki', 'dong', 'lovely', 'moments', 'almost', 'made', 'lack', 'feeling', 'oh', 'ha', 'ni', 'baek', 'seung', 'also', 'really', 'enjoyed', 'big', 'reveal', 'kiss', 'rain', 'even', 'though', 'care', 'series', 'much', 'wanted', 'kiss', 'top', 'five', 'best', 'kisses', 'moment', 'whatever', 'reason', 'leads', 'made', 'believe', 'love', 'wish', 'passion', 'fire', 'carried', 'episodes', 'kiss', 'dragged', 'opposed', 'six', 'months', 'ago', 'would', 'stopped', 'watching', 'moved', 'something', 'else', 'however', 'back', 'felt', 'guilty', 'sticking', 'show', 'beginning', 'end', 'full', 'time', 'work', 'husband', 'rambunctious', 'five', 'year', 'old', 'free', 'time', 'commit', 'show', 'immediately', 'capture', 'ratingoverall', 'rated', 'stars', 'two', 'good', 'things', 'male', 'lead', 'obscenely', 'good', 'female', 'lead', 'less', 'annoying', 'bad', 'really', 'wanted', 'like', 'drama', 'two', 'leads', 'werent', 'likeable', 'one', 'annoying', 'horrible', 'human', 'hard', 'get', 'something', 'whole', 'time', 'face', 'palm', 'kim', 'hyun', 'joong', 'many', 'emotions', 'toilet', 'seat', 'plot', 'blatantly', 'stretched', 'boring', 'must', 'one', 'worst', 'dramas', 'watched', 'whole', 'idea', 'drama', 'like', 'script', 'writers', 'producers', 'thinking', 'feels', 'like', 'written', 'couple', 'year', 'olds', 'first', 'drama', 'first', 'ever', 'korean', 'drama', 'ever', 'watched', 'life', 'friend', 'recommended', 'drama', 'started', 'watching', 'found', 'korean', 'version', 'started', 'kiss', 'iswak', 'first', 'taiwanese', 'drama', 'remembered', 'watched', 'many', 'dramas', 'younger', 'remember', 'well', 'thought', 'let', 'say', 'honest', 'much', 'real', 'plot', 'going', 'girl', 'trying', 'win', 'guy', 'basically', 'entire', 'episodes', 'yes', 'get', 'boring', 'parts', 'first', 'kind', 'relationship', 'really', 'understand', 'hate', 'drama', 'like', 'people', 'also', 'love', 'drama', 'either', 'think', 'drama', 'watch', 'lot', 'free', 'time', 'nothing', 'preferably', 'summer', 'first', 'feel', 'two', 'leads', 'much', 'chemistry', 'jung', 'min', 'acted', 'character', 'well', 'light', 'drama', 'need', 'possess', 'great', 'talent', 'able', 'act', 'playful', 'kiss', 'kim', 'hyun', 'joong', 'alright', 'squealing', 'fan', 'girl', 'seen', 'dramas', 'besides', 'pk', 'overall', 'acting', 'alright', 'nothing', 'actually', 'stood', 'watched', 'long', 'ago', 'remember', 'music', 'value', 'well', 'typically', 'dramas', 'masterpieces', 'like', 'princess', 'man', 'giving', 'fair', 'choice', 'sweet', 'funny', 'moments', 'made', 'would', 'call', 'terrible', 'drama', 'need', 'patience', 'watch', 'recommend', 'drama', 'people', 'want', 'light', 'drama', 'watch', 'nothing', 'liked', 'first', 'episodes', 'main', 'female', 'character', 'made', 'laugh', 'lot', 'found', 'cute', 'parts', 'story', 'started', 'unbearable', 'oh', 'hani', 'pride', 'seem', 'seung', 'jo', 'really', 'mean', 'showing', 'sick', 'love', 'anyways', 'chemistry', 'characters', 'horrible', 'example', 'romance', 'treat', 'female', 'shit', 'happy', 'kiss', 'anyways', 'kim', 'hyun', 'joong', 'facial', 'expression', 'poker', 'face', 'every', 'single', 'could', 'even', 'finish', 'think', 'drama', 'got', 'wonderful', 'world', 'kdrama', 'face', 'palms', 'shakes', 'head', 'groans', 'drama', 'launched', 'kim', 'hyun', 'joong', 'notable', 'fame', 'se', 'asia', 'parts', 'world', 'presume', 'role', 'boys', 'flowers', 'hearts', 'bled', 'ji', 'hoo', 'series', 'baek', 'seung', 'jo', 'genius', 'object', 'affection', 'say', 'obsession', 'oh', 'ha', 'done', 'research', 'story', 'might', 'taken', 'note', 'based', 'manga', 'na', 'kiss', 'became', 'increasingly', 'irritated', 'oh', 'ha', 'ni', 'blind', 'devotion', 'baek', 'seung', 'jo', 'tried', 'search', 'original', 'story', 'check', 'deviation', 'surprisingly', 'none', 'minuscule', 'hardly', 'even', 'jung', 'min', 'acted', 'naturally', 'could', 'much', 'kim', 'hyun', 'joong', 'even', 'want', 'go', 'live', 'without', 'itrewatch', 'value', 'kidding', 'story', 'story', 'funny', 'interesting', 'first', 'time', 'ever', 'seen', 'something', 'absurd', 'came', 'love', 'found', 'interesting', 'always', 'wondering', 'happen', 'next', 'episode', 'fluffy', 'cute', 'type', 'drama', 'however', 'admit', 'storyline', 'pretty', 'simple', 'girl', 'chasing', 'someone', 'loves', 'fullstop', 'really', 'interesting', 'history', 'big', 'secret', 'anything', 'kim', 'hyun', 'joong', 'great', 'person', 'ca', 'act', 'would', 'even', 'able', 'tell', 'liked', 'ever', 'whole', 'life', 'emotions', 'whatsoever', 'occasionally', 'flashed', 'cute', 'mouse', 'smile', 'made', 'think', 'emotions', 'yeah', 'jung', 'min', 'pretty', 'alright', 'guess', 'made', 'kim', 'hyun', 'joong', 'bland', 'pretty', 'crazy', 'second', 'male', 'lead', 'bong', 'joon', 'gu', 'oh', 'goodness', 'annoying', 'annoying', 'however', 'admit', 'kinda', 'made', 'drama', 'bit', 'music', 'drama', 'nice', 'really', 'leave', 'huge', 'impression', 'one', 'songs', 'ost', 'may', 'come', 'itunes', 'library', 'occasionally', 'think', 'playful', 'kiss', 'never', 'really', 'makes', 'want', 'go', 'watch', 'drama', 'course', 'although', 'acting', 'great', 'story', 'pretty', 'simple', 'nice', 'fun', 'drama', 'watch', 'even', 'kim', 'hyun', 'joong', 'ca', 'act', 'well', 'still', 'good', 'look', 'still', 'one', 'dramas', 'korean', 'drama', 'addict', 'watch', 'quiet', 'popular', 'wo', 'pull', 'heartstrings', 'make', 'laugh', 'light', 'fun', 'drama', 'watch', 'soft', 'spot', 'one', 'everyone', 'kept', 'telling', 'taiwanese', 'version', 'supposedly', 'better', 'never', 'managed', 'get', 'past', 'ugly', 'stupid', 'girl', 'looks', 'korean', 'version', 'manga', 'lead', 'actually', 'hot', 'oh', 'ah', 'ni', 'silly', 'cute', 'hell', 'baek', 'seung', 'ju', 'well', 'never', 'thought', 'masochist', 'playful', 'kiss', 'best', 'part', 'drama', 'definitely', 'two', 'leads', 'baek', 'seung', 'ju', 'selfish', 'arrogant', 'son', 'horribly', 'frustrating', 'top', 'freakishly', 'hot', 'mention', 'role', 'perfect', 'kim', 'hyun', 'joong', 'ah', 'ni', 'cute', 'adorable', 'misery', 'gullibility', 'overall', 'actually', 'quite', 'childish', 'supporting', 'roles', 'often', 'really', 'annoying', 'always', 'skip', 'parts', 'expect', 'something', 'perfect', 'think', 'drama', 'stopped', 'could', 'run', 'course', 'made', 'special', 'episodes', 'actually', 'rest', 'manga', 'important', 'rest', 'since', 'get', 'see', 'happens', 'happy', 'pk', 'makes', 'top', 'intensity', 'chemistry', 'tension', 'two', 'leads', 'important', 'watching', 'romance', 'drama', 'others', 'might', 'consider', 'childish', 'case', 'still', 'good', 'one', 'fans', 'wanted', 'love', 'show', 'mean', 'boys', 'flowers', 'one', 'guilty', 'pleasures', 'love', 'watching', 'nowhere', 'close', 'kind', 'quality', 'horribly', 'written', 'lines', 'make', 'groan', 'feel', 'queasy', 'sheer', 'cheesiness', 'main', 'lead', 'whiny', 'annoying', 'honestly', 'little', 'bit', 'stalker', 'kim', 'hyun', 'joong', 'reprises', 'role', 'jihoo', 'jerk', 'less', 'emotional', 'honestly', 'think', 'possible', 'character', 'makes', 'jihoo', 'look', 'like', 'fountain', 'expression', 'honestly', 'save', 'time', 'watch', 'bof', 'watching', 'japanese', 'version', 'time', 'rewatched', 'korean', 'one', 'god', 'even', 'decide', 'commented', 'japanese', 'version', 'really', 'hate', 'plot', 'ha', 'ni', 'states', 'loved', 'seung', 'jo', 'years', 'even', 'though', 'never', 'talked', 'yeah', 'completely', 'normal', 'ask', 'seriously', 'shallow', 'loves', 'looks', 'opinion', 'considering', 'even', 'talked', 'course', 'true', 'love', 'jo', 'jerk', 'however', 'watched', 'japanese', 'version', 'got', 'admit', 'seung', 'jo', 'human', 'emotions', 'reactions', 'naoki', 'latter', 'emotionless', 'souless', 'seung', 'jo', 'shows', 'feelings', 'quite', 'often', 'well', 'least', 'tries', 'show', 'kim', 'hyeon', 'jung', 'acting', 'bad', 'ca', 'really', 'read', 'anything', 'facial', 'expressions', 'besides', 'usual', 'poker', 'face', 'insults', 'ha', 'ni', 'less', 'naoki', 'insults', 'kotoko', 'still', 'jerk', 'sometimes', 'gives', 'ha', 'ni', 'false', 'hopes', 'making', 'believe', 'might', 'actually', 'interested', 'swear', 'multiple', 'personality', 'disorder', 'mixed', 'mood', 'swings', 'say', 'want', 'shiet', 'ai', 'moving', 'stupid', 'ha', 'ni', 'deserves', 'emotional', 'mess', 'punishment', 'oh', 'fcking', 'god', 'know', 'actress', 'habit', 'wanted', 'make', 'ha', 'ni', 'seem', 'cute', 'hated', 'sticked', 'tongue', 'slightly', 'biting', 'like', 'jesus', 'fckign', 'christ', 'hell', 'supposed', 'girl', 'cute', 'stop', 'stop', 'cut', 'tongue', 'ha', 'ni', 'imbecile', 'expression', 'face', 'well', 'least', 'facial', 'expressions', 'unlike', 'particular', 'someone', 'though', 'miracle', 'happened', 'ha', 'ni', 'less', 'pain', 'aß', 'kotoko', 'still', 'hated', 'relationship', 'ha', 'ni', 'bong', 'jun', 'gu', 'version', 'japanese', 'version', 'kotoko', 'kinnosuke', 'good', 'friends', 'understandable', 'fallen', 'however', 'version', 'jun', 'gu', 'seems', 'like', 'creepy', 'stalker', 'wo', 'leave', 'ha', 'ni', 'alone', 'even', 'though', 'clearly', 'burden', 'seems', 'like', 'korea', 'afraid', 'showing', 'friendly', 'skinship', 'male', 'female', 'friends', 'boys', 'girls', 'could', 'friends', 'afraid', 'touching', 'friendly', 'relationship', 'baek', 'seung', 'jo', 'yun', 'ra', 'want', 'say', 'ha', 'ni', 'needs', 'get', 'shiet', 'together', 'stop', 'jealous', 'moron', 'none', 'business', 'dating', 'considering', 'guy', 'loves', 'shows', 'interest', 'girl', 'stop', 'trying', 'ruin', 'good', 'relations', 'ra', 'overly', 'obsessed', 'even', 'mention', 'ending', 'place', 'awkward', 'laughed', 'hard', 'script', 'writers', 'desperately', 'trying', 'give', 'bong', 'jun', 'gu', 'consolation', 'appreciate', 'good', 'intentions', 'watch', 'drama', 'okay', 'overly', 'impressed', 'version', 'itazura', 'na', 'kiss', 'one', 'thing', 'liked', 'soundtrack', 'went', 'pretty', 'well', 'entire', 'things', 'honestly', 'like', 'acting', 'bad', 'seem', 'realistic', 'enough', 'parts', 'played', 'like', 'know', 'acting', 'good', 'gets', 'heart', 'feeling', 'part', 'either', 'makes', 'cry', 'get', 'sudden', 'butterflies', 'know', 'never', 'feelings', 'two', 'main', 'missed', 'best', 'parts', 'manga', 'going', 'spoil', 'parts', 'seen', 'watch', 'already', 'read', 'manga', 'understand', 'mean', 'actors', 'could', 'get', 'character', 'personalities', 'example', 'j', 'vers', 'naoki', 'irie', 'lot', 'better', 'could', 'relate', 'really', 'well', 'character', 'major', 'university', 'naoki', 'attitude', 'also', 'looked', 'overall', 'like', 'actual', 'genius', 'character', 'story', 'look', 'smart', 'well', 'known', 'genius', 'made', 'part', 'look', 'really', 'poor', 'actors', 'also', 'picked', 'looked', 'nothing', 'alike', 'manga', 'version', 'probably', 'important', 'people', 'mean', 'looked', 'somewhat', 'similar', 'would', 'somewhat', 'satisfied', 'part', 'nope', 'looked', 'nothing', 'alike', 'whatsoever', 'highly', 'disappointing', 'considering', 'huge', 'manga', 'geek', 'read', 'itazura', 'na', 'kiss', 'many', 'times', 'lost', 'overall', 'highly', 'disappointed', 'drama', 'would', 'recommend', 'anyone', 'new', 'kdrama', 'genre', 'quickly', 'getting', 'thank', 'obviously', 'teenage', 'young', 'adult', 'type', 'drama', 'sucker', 'great', 'love', 'stories', 'matter', 'age', 'group', 'always', 'one', 'cheering', 'underdog', 'one', 'girl', 'guy', 'place', 'one', 'expects', 'win', 'heck', 'wrong', 'could', 'stand', 'way', 'ha', 'ni', 'stalked', 'guy', 'sooooo', 'mean', 'received', 'great', 'pleasure', 'joy', 'making', 'feel', 'bad', 'acknowledge', 'even', 'acknowledge', 'admits', 'mean', 'still', 'madly', 'love', 'watched', 'good', 'morning', 'call', 'thought', 'bad', 'one', 'could', 'possibly', 'bad', 'nao', 'boy', 'wrong', 'ha', 'ni', 'beat', 'hands', 'got', 'episode', 'honestly', 'could', 'stomach', 'anymore', 'many', 'times', 'found', 'wanting', 'something', 'tv', 'picking', 'tv', 'smashing', 'could', 'stand', 'want', 'apologize', 'understanding', 'culture', 'american', 'sure', 'type', 'drama', 'representation', 'asian', 'women', 'real', 'life', 'understand', 'person', 'man', 'female', 'would', 'allow', 'someone', 'blatantly', 'mean', 'rude', 'find', 'person', 'would', 'want', 'spend', 'life', 'baffles', 'quite', 'frankly', 'dramas', 'seen', 'seem', 'portray', 'lead', 'actress', 'weak', 'dumb', 'clumsy', 'servant', 'attitude', 'ok', 'made', 'feel', 'beneath', 'show', 'gratitude', 'even', 'getting', 'familiar', 'actors', 'like', 'everyone', 'else', 'seems', 'really', 'point', 'reference', 'acting', 'friends', 'found', 'unnecessary', 'really', 'add', 'anything', 'show', 'especially', 'got', 'college', 'one', 'else', 'seemed', 'life', 'outside', 'ha', 'found', 'mother', 'enthusiasm', 'relationship', 'little', 'bizarre', 'bit', 'going', 'ni', 'pretty', 'however', 'hated', 'way', 'made', 'look', 'like', 'idiot', 'year', 'old', 'even', 'college', 'way', 'dressed', 'combed', 'hair', 'understand', 'supposed', 'pure', 'fresh', 'different', 'also', 'mean', 'look', 'like', 'child', 'realistically', 'would', 'normal', 'guy', 'really', 'find', 'attractive', 'long', 'period', 'time', 'even', 'want', 'get', 'stalking', 'got', 'annoyed', 'every', 'time', 'turn', 'around', 'running', 'like', 'puppy', 'messes', 'everything', 'worse', 'knew', 'everything', 'time', 'showed', 'little', 'sign', 'changing', 'tortured', 'kept', 'coming', 'back', 'end', 'even', 'writing', 'review', 'making', 'upset', 'want', 'break', 'laptop', 'understand', 'heart', 'strings', 'get', 'higher', 'reviews', 'higher', 'ratings', 'korea', 'well', 'internationally', 'understand', 'many', 'people', 'like', 'drama', 'playful', 'kiss', 'got', 'worst', 'drama', 'ever', 'really', 'tried', 'get', 'like', 'redeemng', 'qualities', 'even', 'watch', 'kim', 'hyun', 'joong', 'adored', 'boy', 'flowers', 'sooo', 'swoon', 'worthy', 'cutting', 'food', 'girl', 'mean', 'however', 'drama', 'total', 'jerk', 'get', 'go', 'tried', 'make', 'high', 'school', 'hope', 'every', 'one', 'matures', 'college', 'something', 'sparks', 'main', 'couple', 'dragged', 'male', 'lead', 'total', 'ass', 'female', 'lead', 'rug', 'backbone', 'hope', 'young', 'girls', 'follow', 'example', 'wasted', 'time', 'much', 'better', 'dramas', 'watch', 'drama', 'light', 'delicate', 'think', 'plot', 'depth', 'kind', 'creepy', 'high', 'school', 'girl', 'obsession', 'one', 'boy', 'stalks', 'super', 'cute', 'way', 'great', 'joy', 'cute', 'drama', 'liked', 'oh', 'ha', 'ni', 'honest', 'pure', 'hyun', 'joong', 'acting', 'great', 'always', 'hair', 'smile', 'eye', 'catching', 'ha', 'ni', 'adorable', 'outfits', 'die', 'personally', 'really', 'liked', 'drama', 'could', 'relate', 'foreigner', 'falls', 'handsome', 'korean', 'boy', 'dream', 'snobby', 'extremely', 'handsome', 'smart', 'boy', 'girls', 'want', 'ha', 'ni', 'girl', 'never', 'noticed', 'like', 'haha', 'start', 'drama', 'wo', 'able', 'put', 'finish', 'searching', 'web', 'dramas', 'close', 'story', 'truly', 'hope', 'enjoy', 'drama', 'much', 'came', 'across', 'drama', 'seen', 'itazura', 'na', 'kiss', 'anime', 'loved', 'kim', 'hyun', 'joong', 'long', 'time', 'since', 'first', 'saw', 'gummy', 'mv', 'man', 'came', 'know', 'itazura', 'na', 'kiss', 'drama', 'kim', 'hyun', 'joong', 'excited', 'watch', 'expectations', 'low', 'much', 'love', 'kim', 'hyun', 'joong', 'like', 'story', 'itazura', 'na', 'kiss', 'even', 'loved', 'story', 'drama', 'changed', 'little', 'anime', 'glad', 'removed', 'stupid', 'plot', 'holes', 'made', 'characters', 'kim', 'hyun', 'joong', 'really', 'great', 'job', 'playing', 'seung', 'jo', 'hated', 'ikki', 'anime', 'like', 'using', 'kotoko', 'really', 'love', 'afraid', 'one', 'else', 'would', 'love', 'like', 'held', 'bullied', 'way', 'much', 'kotoko', 'waayy', 'stupid', 'got', 'nerves', 'seriously', 'wanted', 'slap', 'hard', 'maybe', 'would', 'come', 'senses', 'drama', 'could', 'see', 'even', 'though', 'seung', 'jo', 'bullied', 'oh', 'ha', 'ni', 'sometimes', 'really', 'love', 'jung', 'min', 'good', 'job', 'playing', 'ha', 'ni', 'annoying', 'anime', 'character', 'use', 'annoying', 'girls', 'desperately', 'run', 'guys', 'obviously', 'care', 'always', 'annoying', 'felt', 'really', 'sorry', 'bong', 'joon', 'gu', 'likable', 'anime', 'character', 'seriously', 'would', 'ok', 'ha', 'ni', 'would', 'ended', 'felt', 'like', 'giving', 'poor', 'guy', 'hug', 'characters', 'nice', 'memorable', 'except', 'seung', 'jo', 'mom', 'loved', 'anime', 'loved', 'drama', 'really', 'funny', 'loved', 'romance', 'sweet', 'nice', 'loved', 'seeing', 'seung', 'jo', 'feelings', 'progress', 'loved', 'secret', 'smiles', 'kim', 'hyun', 'joong', 'smile', 'especially', 'loved', 'jealous', 'ha', 'ni', 'someone', 'else', 'showed', 'really', 'really', 'much', 'negatives', 'point', 'really', 'loved', 'show', 'though', 'one', 'character', 'remember', 'name', 'involved', 'ha', 'ni', 'fight', 'bong', 'joo', 'gu', 'library', 'appeared', 'couple', 'episodes', 'wonder', 'disappeared', 'scene', 'many', 'favorite', 'scenes', 'could', 'possibly', 'list', 'still', 'share', 'well', 'first', 'one', 'seung', 'jo', 'saves', 'ha', 'ni', 'naked', 'man', 'p', 'loved', 'rain', 'scene', 'balcony', 'scene', 'sweetest', 'scene', 'ever', 'seung', 'jo', 'kisses', 'ha', 'ni', 'forest', 'asleep', 'honeymoon', 'seung', 'jo', 'tickles', 'ha', 'ni', 'make', 'smile', 'mad', 'list', 'goes', 'marriage', 'loved', 'youtube', 'specials', 'showed', 'life', 'marriage', 'loved', 'jo', 'diary', 'also', 'youtube', 'showed', 'much', 'loved', 'ha', 'ni', 'really', 'peep', 'shy', 'really', 'loved', 'drama', 'romantic', 'comedies', 'definitely', 'watch', 'love', 'playful', 'kiss', 'search', 'net', 'lot', 'people', 'like', 'drama', 'oh', 'ha', 'ni', 'admit', 'follows', 'baek', 'seung', 'jo', 'around', 'might', 'find', 'annoying', 'find', 'acts', 'age', 'vindictive', 'truly', 'comes', 'kind', 'loyal', 'person', 'loved', 'drama', 'first', 'time', 'watched', 'watched', 'loved', 'noticed', 'subtle', 'things', 'notice', 'first', 'watched', 'anime', 'itazura', 'na', 'kiss', 'read', 'volumes', 'manga', 'lot', 'stuff', 'wish', 'could', 'seen', 'playful', 'kiss', 'however', 'still', 'enjoyed', 'story', 'really', 'love', 'drama', 'many', 'people', 'may', 'hate', 'main', 'actress', 'clumsy', 'pathetic', 'think', 'reacting', 'happens', 'korean', 'dramas', 'lot', 'worth', 'watch', 'funny', 'relax', 'watching', 'rewatched', 'many', 'times', 'never', 'get', 'bored', 'think', 'everyone', 'wish', 'man', 'beside', 'like', 'baek', 'seung', 'really', 'like', 'typical', 'funny', 'cheesy', 'high', 'school', 'dramas', 'dit', 'make', 'laugh', 'angry', 'mostly', 'laugh', 'yell', 'people', 'annoying', 'show', 'simple', 'best', 'thing', 'free', 'negativity', 'one', 'call', 'truly', 'feel', 'positive', 'air', 'every', 'done', 'good', 'job', 'portraying', 'kim', 'hyun', 'joong', 'actors', 'also', 'good', 'especially', 'younger', 'brother', 'baek', 'seung', 'cute', 'really', 'liked', 'depiction', 'relationships', 'must', 'already', 'watched', 'love', 'drama', 'number', 'one', 'favorite', 'drama', 'time', 'watched', 'several', 'dramas', 'since', 'one', 'none', 'compare', 'playful', 'kiss', 'sweet', 'heartwarming', 'full', 'charm', 'laughed', 'cried', 'cried', 'tears', 'sadness', 'joy', 'actually', 'surprised', 'cried', 'yoon', 'ra', 'bong', 'joon', 'gu', 'expecting', 'feel', 'bad', 'two', 'cried', 'could', 'help', 'cry', 'love', 'kim', 'hyun', 'joong', 'jung', 'min', 'fit', 'roles', 'perfectly', 'ease', 'way', 'characters', 'interacted', 'felt', 'thing', 'like', 'ended', 'get', 'wrong', 'ending', 'great', 'meant', 'wish', 'second', 'season', 'still', 'story', 'really', 'really', 'wanted', 'see', 'baek', 'seung', 'jo', 'get', 'jealous', 'hehe', 'also', 'wanted', 'see', 'oh', 'ha', 'ni', 'medical', 'school', 'wanted', 'see', 'story', 'give', 'drama', 'perfect', 'drama', 'comedy', 'tis', 'one', 'great', 'laughed', 'lot', 'probably', 'kept', 'watching', 'oh', 'fact', 'like', 'kim', 'hyung', 'joong', 'girl', 'repeat', 'nooo', 'girl', 'pathetic', 'error', 'really', 'girl', 'rejected', 'mention', 'disgraced', 'many', 'watching', 'kept', 'asking', 'long', 'take', 'could', 'pathetic', 'kept', 'breaking', 'pathetic', 'limit', 'fill', 'black', 'space', 'cos', 'know', 'ok', 'understand', 'story', 'give', 'super', 'new', 'twists', 'stupid', 'optimistic', 'girl', 'likes', 'genius', 'overall', 'outstanding', 'gloomy', 'guy', 'annoying', 'continuosly', 'grows', 'happy', 'married', 'script', 'made', 'story', 'fascinating', 'comedy', 'actors', 'showed', 'characters', 'developing', 'chemistry', 'happyly', 'watching', 'drama', 'rewatched', 'still', 'enjoyed', 'lot', 'time', 'passed', 'plan', 'rewatch', 'want', 'enjoy', 'light', 'comedy', 'drama', 'actually', 'fan', 'manga', 'taken', 'story', 'liking', 'series', 'expected', 'first', 'never', 'really', 'whole', 'remaking', 'stuffs', 'took', 'awhile', 'finally', 'watch', 'secondly', 'also', 'fan', 'second', 'adaptation', 'manga', 'kinda', 'skeptical', 'really', 'give', 'time', 'finally', 'sit', 'watch', 'one', 'fine', 'day', 'feeling', 'like', 'lost', 'puppy', 'looking', 'one', 'lost', 'love', 'decided', 'give', 'try', 'really', 'glad', 'watched', 'coz', 'bad', 'afterall', 'love', 'light', 'atmosphere', 'beatiful', 'shot', 'love', 'chemistry', 'leading', 'acting', 'aspect', 'kim', 'hyun', 'joong', 'best', 'actor', 'role', 'drama', 'make', 'believable', 'unlike', 'former', 'role', 'bof', 'role', 'fits', 'character', 'say', 'wonderful', 'job', 'think', 'many', 'drama', 'viewers', 'like', 'way', 'hana', 'baek', 'like', 'life', 'follow', 'manga', 'really', 'like', 'overall', 'must', 'watch', 'people', 'likes', 'watching', 'young', 'romance', 'worst', 'drama', 'ever', 'wasted', 'time', 'watching', 'hell', 'kind', 'message', 'trying', 'send', 'oh', 'hani', 'one', 'dumbest', 'annoying', 'main', 'characters', 'ever', 'seen', 'one', 'moment', 'actually', 'likable', 'ruins', 'within', 'seconds', 'moment', 'ca', 'stand', 'boy', 'chases', 'boring', 'total', 'dick', 'understand', 'great', 'story', 'god', 'awful', 'characters', 'horrible', 'except', 'supporting', 'cast', 'overall', 'hated', 'first', 'episode', 'great', 'goes', 'hell', 'idea', 'watched', 'recommend', 'watch', 'thai', 'version', 'instead', 'much', 'much', 'much', 'better', 'main', 'girl', 'still', 'dumb', 'lovable', 'dumb', 'unlike', 'oh', 'hani', 'kdramas', 'seen', 'labeled', 'playful', 'kiss', 'one', 'seen', 'successfully', 'lives', 'title', 'cute', 'breezy', 'watch', 'light', 'story', 'average', 'acting', 'probably', 'less', 'average', 'kim', 'part', 'watched', 'remake', 'anime', 'particularly', 'expecting', 'much', 'said', 'drama', 'exceed', 'fall', 'short', 'expectations', 'hit', 'stayed', 'people', 'think', 'baek', 'overly', 'cold', 'character', 'think', 'coldness', 'came', 'acting', 'writers', 'ignore', 'besides', 'character', 'personality', 'versions', 'drama', 'kind', 'personality', 'appreciated', 'part', 'characters', 'fleshed', 'differently', 'unique', 'combinations', 'flaws', 'virtues', 'none', 'characters', 'playful', 'kiss', 'like', 'typical', 'kdrama', 'music', 'fitting', 'overall', 'tone', 'upbeat', 'full', 'energy', 'helped', 'set', 'tone', 'show', 'fit', 'nicely', 'overall', 'series', 'made', 'smile', 'every', 'time', 'one', 'songs', 'came', 'drama', 'easy', 'watch', 'even', 'skimmed', 'story', 'would', 'impacted', 'fun', 'watch', 'nice', 'attempt', 'remaking', 'classic', 'manga', 'difficult', 'take', 'seriously', 'thought', 'leads', 'supporting', 'cast', 'performed', 'well', 'characters', 'believable', 'little', 'stretching', 'oh', 'ha', 'ni', 'father', 'way', 'hell', 'would', 'want', 'daughter', 'arrogant', 'condescending', 'prick', 'like', 'baek', 'seung', 'jo', 'good', 'looking', 'mean', 'talk', 'low', 'wow', 'ok', 'watched', 'drama', 'long', 'time', 'ago', 'dissapointed', 'reason', 'decided', 'review', 'bcus', 'recently', 'watched', 'anime', 'version', 'proved', 'story', 'isnt', 'bad', 'seems', 'k', 'back', 'comparing', 'extremely', 'dissapointed', 'khj', 'portrayel', 'naoki', 'liked', 'acting', 'bof', 'however', 'drama', 'acting', 'really', 'poor', 'bcuz', 'hated', 'main', 'character', 'watched', 'anime', 'version', 'dont', 'hate', 'main', 'male', 'lead', 'naoki', 'much', 'khj', 'couldnt', 'convey', 'character', 'well', 'didnt', 'capture', 'depth', 'original', 'character', 'made', 'seem', 'plain', 'arrogant', 'thats', 'compared', 'anime', 'version', 'overall', 'adaptation', 'failure', 'dont', 'recommend', 'much', 'much', 'better', 'even', 'though', 'still', 'got', 'annoyed', 'main', 'female', 'lead', 'versions', 'lool', 'first', 'started', 'watching', 'got', 'hooked', 'couple', 'days', 'work', 'finished', 'series', 'think', 'watched', 'intensity', 'waiting', 'somthing', 'happen', 'main', 'characters', 'opinion', 'seung', 'jo', 'deserve', 'ha', 'ni', 'hardly', 'romance', 'two', 'bits', 'pieces', 'hardly', 'sitting', 'like', 'let', 'btch', 'talk', 'like', 'let', 'guy', 'treat', 'like', 'quit', 'tennis', 'club', 'nothing', 'made', 'sense', 'end', 'treated', 'like', 'garbage', 'even', 'supposed', 'personality', 'read', 'watched', 'eposide', 'got', 'married', 'seung', 'joke', 'took', 'honey', 'moon', 'let', 'women', 'hang', 'walked', 'hell', 'mad', 'never', 'mad', 'show', 'get', 'home', 'go', 'school', 'meets', 'girl', 'seeing', 'decided', 'marry', 'ha', 'ni', 'walks', 'away', 'unofficial', 'wife', 'let', 'girl', 'hang', 'conclusion', 'bad', 'liked', 'yknow', 'great', 'either', 'would', 'watch', 'read', 'manga', 'case', 'drama', 'leaves', 'bad', 'taste', 'mouth', 'really', 'high', 'hopes', 'heard', 'many', 'good', 'things', 'wow', 'female', 'lead', 'wow', 'absolutely', 'disappointing', 'lot', 'dramas', 'female', 'leads', 'depend', 'male', 'bit', 'much', 'taste', 'one', 'takes', 'cake', 'dream', 'follow', 'guy', 'around', 'whiney', 'weak', 'clingy', 'unable', 'function', 'without', 'approval', 'guy', 'throughout', 'entire', 'series', 'even', 'get', 'together', 'treats', 'like', 'crap', 'heck', 'kim', 'know', 'act', 'better', 'exactly', 'one', 'facial', 'expression', 'whole', 'series', 'extremely', 'disappointing', 'almost', 'every', 'korean', 'drama', 'fan', 'seemed', 'playful', 'kiss', 'top', 'ten', 'drama', 'list', 'checked', 'got', 'pretty', 'excited', 'watch', 'beginning', 'really', 'funny', 'baek', 'seung', 'jo', 'oh', 'ha', 'ni', 'absolutely', 'around', 'episode', 'story', 'even', 'funny', 'anymore', 'kept', 'oh', 'ha', 'ni', 'embarassing', 'disappointed', 'annoyed', 'characters', 'surprised', 'liked', 'drama', 'much', 'usually', 'ca', 'stand', 'stupid', 'female', 'leads', 'jung', 'min', 'cute', 'made', 'character', 'likable', 'spite', 'pitiful', 'behavior', 'kim', 'hyun', 'joong', 'plays', 'really', 'well', 'could', 'help', 'liking', 'character', 'smile', 'killer', 'together', 'awkward', 'chemistry', 'think', 'worked', 'really', 'well', 'also', 'liked', 'supporting', 'cast', 'family', 'friends', 'rivals', 'wang', 'kyung', 'soo', 'distracting', 'could', 'possibly', 'pass', 'years', 'old', 'lee', 'tae', 'sung', 'oh', 'ha', 'character', 'annoying', 'first', 'eventually', 'started', 'grow', 'impressed', 'different', 'character', 'romance', 'zero', 'absolutely', 'loved', 'mom', 'well', 'definitely', 'one', 'favorite', 'characters', 'started', 'miss', 'band', 'show', 'basically', 'stalking', 'find', 'stalking', 'probably', 'hate', 'drama', 'takes', 'opposites', 'attract', 'theory', 'extreme', 'story', 'progressed', 'relationship', 'started', 'make', 'sense', 'seen', 'versions', 'read', 'manga', 'ca', 'compare', 'would', 'call', 'playful', 'kiss', 'one', 'favorites', 'worth', 'watching', 'fan', 'commenting', 'especially', 'unfamiliar', 'story', 'end', 'spoiling', 'everything', 'came', 'drama', 'without', 'seeing', 'taiwanese', 'version', 'without', 'knowing', 'actors', 'except', 'falling', 'secondary', 'otp', 'boys', 'flowers', 'khj', 'bias', 'towards', 'khj', 'guy', 'sure', 'make', 'heart', 'skip', 'beat', 'smiles', 'say', 'drama', 'one', 'watch', 'fall', 'love', 'side', 'things', 'bugged', 'first', 'episodes', 'quickly', 'got', 'like', 'daydreams', 'hooked', 'drama', 'lighthearted', 'basic', 'story', 'line', 'people', 'expect', 'great', 'turmoil', 'top', 'romance', 'simple', 'love', 'story', 'truly', 'crazy', 'twists', 'make', 'go', 'tv', 'really', 'hooks', 'drama', 'moments', 'happen', 'oh', 'ha', 'ni', 'make', 'cringe', 'giggle', 'hide', 'behind', 'blanket', 'sake', 'love', 'love', 'feeling', 'drama', 'many', 'jung', 'min', 'plays', 'oh', 'ha', 'ni', 'perfectly', 'sure', 'would', 'continued', 'love', 'good', 'drama', 'like', 'everyone', 'else', 'love', 'silly', 'drama', 'silly', 'without', 'fine', 'fine', 'line', 'usually', 'crossed', 'making', 'drop', 'drama', 'may', 'seem', 'crazy', 'point', 'view', 'girl', 'stalking', 'poor', 'baek', 'seung', 'jo', 'think', 'going', 'far', 'holds', 'back', 'restrains', 'think', 'gon', 'na', 'get', 'shows', 'signs', 'hope', 'back', 'obsession', 'know', 'lot', 'people', 'seem', 'hate', 'silliness', 'people', 'ca', 'seem', 'get', 'differences', 'pk', 'versus', 'iswak', 'say', 'silly', 'bugs', 'normalcy', 'bugs', 'drama', 'may', 'think', 'like', 'much', 'silliness', 'drama', 'supposedly', 'straight', 'adaptation', 'japanese', 'manga', 'used', 'enjoy', 'silliness', 'like', 'iswak', 'ignore', 'drama', 'could', 'watch', 'past', 'episodes', 'iswak', 'tried', 'many', 'many', 'times', 'ca', 'get', 'weak', 'female', 'character', 'one', 'still', 'love', 'drama', 'gon', 'na', 'honest', 'say', 'drama', 'cute', 'plot', 'mischievous', 'kiss', 'every', 'cheesy', 'drama', 'really', 'see', 'chemistry', 'like', 'hani', 'pissed', 'every', 'episode', 'weak', 'dependent', 'character', 'development', 'except', 'seungjo', 'part', 'plus', 'think', 'hani', 'stalking', 'downright', 'creepy', 'wondering', 'seungjo', 'ever', 'got', 'moment', 'privacy', 'met', 'hani', 'overall', 'okay', 'like', 'seungjo', 'mom', 'character', 'enjoyed', 'one', 'series', 'make', 'heart', 'beat', 'like', 'crazy', 'really', 'know', 'done', 'well', 'male', 'lead', 'cold', 'supposed', 'like', 'know', 'kisses', 'stiff', 'female', 'lead', 'stupid', 'annoying', 'never', 'read', 'manga', 'watch', 'anime', 'feel', 'like', 'watching', 'adaption', 'story', 'special', 'episodes', 'released', 'pretty', 'stupid', 'like', 'knows', 'falling', 'love', 'hurt', 'one', 'love', 'never', 'giving', 'love', 'sigh', 'somehow', 'touching', 'started', 'rooting', 'girl', 'based', 'reviews', 'bad', 'chemistry', 'avoided', 'show', 'long', 'long', 'time', 'watched', 'thai', 'version', 'others', 'get', 'idea', 'craze', 'particular', 'story', 'glad', 'thai', 'version', 'diff', 'version', 'want', 'modern', 'original', 'looks', 'great', 'chemistry', 'good', 'u', 'get', 'past', 'first', 'episodes', 'u', 'feel', 'spoof', 'due', 'ott', 'imaginary', 'sequences', 'worth', 'watch', 'story', 'intresting', 'first', 'story', 'move', 'forward', 'beginning', 'thought', 'main', 'girl', 'cute', 'bit', 'clumsy', 'ep', 'get', 'annoying', 'whole', 'character', 'like', 'parody', 'naive', 'cute', 'girl', 'writers', 'thinking', 'dumb', 'lack', 'common', 'sense', 'amazing', 'main', 'guy', 'douche', 'mom', 'quite', 'amazed', 'acting', 'good', 'hate', 'characters', 'meh', 'never', 'watch', 'know', 'rage', 'quit', 'half', 'wayoverall', 'worst', 'drama', 'ever', 'seen', 'like', 'torture', 'recommend', 'watched', 'manga', 'itazura', 'na', 'kiss', 'thrilled', 'course', 'kim', 'hyun', 'joong', 'yay', 'oppa', 'give', 'wrong', 'cute', 'funny', 'moments', 'little', 'bit', 'corny', 'least', 'style', 'though', 'would', 'point', 'fact', 'made', 'laugh', 'every', 'episode', 'oppa', 'dreamy', 'truly', 'looks', 'like', 'angel', 'regret', 'watching', 'would', 'reccomend', 'easily', 'fell', 'love', 'jung', 'min', 'really', 'cute', 'awesome', 'job', 'overall', 'story', 'cliche', 'typical', 'romance', 'drama', 'funny', 'many', 'romantic', 'scenes', 'die', 'though', 'perfect', 'ways', 'still', 'like', 'drama', 'never', 'bore', 'death', 'beginning', 'although', 'get', 'irritated', 'oh', 'ha', 'ni', 'followed', 'baek', 'seung', 'jo', 'around', 'seemed', 'like', 'stalker', 'got', 'really', 'irritated', 'never', 'stopped', 'watching', 'continued', 'watch', 'drama', 'made', 'realize', 'oh', 'ha', 'ni', 'much', 'better', 'stronger', 'person', 'beginning', 'tell', 'drama', 'goes', 'characters', 'change', 'way', 'baek', 'seung', 'jo', 'always', 'cruel', 'criticized', 'stupid', 'people', 'became', 'caring', 'learned', 'love', 'ha', 'ni', 'ha', 'ni', 'immature', 'childish', 'turns', 'hardworking', 'strong', 'person', 'even', 'though', 'often', 'hurt', 'baek', 'seung', 'jo', 'would', 'always', 'put', 'happy', 'face', 'kinda', 'inspired', 'way', 'end', 'got', 'college', 'got', 'nursing', 'school', 'even', 'got', 'man', 'shows', 'working', 'hard', 'pays', 'really', 'loved', 'drama', 'super', 'duper', 'cute', 'best', 'version', 'one', 'best', 'dramas', 'ever', 'playful', 'kiss', 'fighting', 'drama', 'amazing', 'loved', 'watched', 'times', 'till', 'find', 'story', 'cute', 'interesting', 'first', 'like', 'drama', 'looking', 'sort', 'drama', 'think', 'love', 'love', 'kim', 'hyun', 'seung', 'jo', 'drama', 'cool', 'love', 'acting', 'jung', 'ha', 'ni', 'cute', 'care', 'one', 'guy', 'eventually', 'baek', 'seung', 'jo', 'love', 'back', 'another', 'one', 'first', 'korean', 'dramas', 'watched', 'one', 'laughing', 'start', 'perhaps', 'times', 'absurdity', 'situations', 'leads', 'funny', 'pass', 'kim', 'hyun', 'joong', 'surprise', 'welcome', 'male', 'story', 'interesting', 'leads', 'could', 'opposite', 'killed', 'yet', 'hidden', 'intrigue', 'male', 'lead', 'seemed', 'someone', 'optimistic', 'following', 'around', 'got', 'regardless', 'shenanigans', 'oh', 'ha', 'ni', 'get', 'countless', 'times', 'got', 'baek', 'seung', 'jo', 'dragged', 'well', 'personality', 'baek', 'seung', 'jo', 'cool', 'exterior', 'made', 'show', 'never', 'dull', 'watch', 'watched', 'playful', 'kiss', 'several', 'times', 'continue', 'one', 'favorites', 'first', 'kept', 'comparing', 'iswak', 'awhile', 'stopped', 'feel', 'two', 'series', 'completely', 'different', 'strengths', 'weaknesses', 'use', 'started', 'watching', 'seeing', 'kim', 'hyun', 'joong', 'boys', 'flowers', 'curious', 'like', 'shows', 'think', 'like', 'lot', 'better', 'lot', 'less', 'stiff', 'smiles', 'makes', 'even', 'better', 'looking', 'normal', 'wish', 'skipped', 'perm', 'middle', 'also', 'really', 'liked', 'jung', 'min', 'oh', 'ha', 'ni', 'great', 'chemistry', 'leading', 'man', 'managed', 'play', 'part', 'without', 'getting', 'annoying', 'also', 'liked', 'supporting', 'cast', 'ha', 'ni', 'friends', 'great', 'joon', 'gu', 'annoyed', 'first', 'got', 'better', 'show', 'went', 'parents', 'bit', 'top', 'times', 'cute', 'moments', 'made', 'seung', 'jo', 'little', 'brother', 'great', 'loved', 'band', 'bye', 'bye', 'sea', 'joon', 'gu', 'posse', 'awesome', 'even', 'though', 'storyline', 'kinda', 'cheesy', 'predictable', 'done', 'interesting', 'cute', 'funny', 'way', 'loved', 'little', 'subtle', 'moments', 'seung', 'jo', 'letting', 'guard', 'showing', 'much', 'liked', 'ha', 'ni', 'overall', 'really', 'great', 'show', 'well', 'drama', 'really', 'great', 'boys', 'cute', 'girls', 'n', 'everything', 'u', 'actually', 'consider', 'would', 'never', 'wan', 'na', 'girl', 'would', 'chase', 'arrogant', 'stubborn', 'egoistic', 'kind', 'boy', 'cute', 'side', 'would', 'given', 'way', 'long', 'beforethe', 'music', 'great', 'songs', 'really', 'amazingthe', 'cast', 'fantastic', 'acting', 'great', 'n', 'one', 'reasons', 'watched', 'u', 'ask', 'times', 'much', 'better', 'started', 'kissif', 'ur', 'romance', 'fan', 'u', 'really', 'watch', 'first', 'drama', 'ever', 'watched', 'times', 'love', 'storyline', 'plot', 'actors', 'ever', 'watched', 'something', 'wondered', 'watching', 'episode', 'end', 'promptly', 'start', 'next', 'one', 'continue', 'wonder', 'watching', 'show', 'times', 'behavior', 'characters', 'annoying', 'wanted', 'yell', 'hopes', 'show', 'never', 'happened', 'even', 'though', 'ending', 'happy', 'one', 'satisfying', 'one', 'drama', 'good', 'watch', 'think', 'would', 'regret', 'watching', 'give', 'try', 'plot', 'whatsoever', 'enjoy', 'story', 'watch', 'looking', 'plot', 'drama', 'right', 'girl', 'living', 'crush', 'hoping', 'chance', 'obstacles', 'along', 'weakest', 'point', 'story', 'mind', 'characters', 'cold', 'ignorant', 'makes', 'story', 'interesting', 'nooooo', 'drama', 'lacks', 'development', 'protagonist', 'delusional', 'world', 'determined', 'guy', 'similar', 'typical', 'korean', 'drama', 'male', 'lead', 'cold', 'bad', 'saying', 'love', 'minor', 'characters', 'good', 'added', 'people', 'want', 'nice', 'realistic', 'slice', 'life', 'kind', 'story', 'drama', 'unrealistic', 'drama', 'ever', 'girl', 'crush', 'like', 'lots', 'people', 'manages', 'squeeze', 'spots', 'shows', 'us', 'viewers', 'make', 'try', 'best', 'good', 'message', 'much', 'considering', 'delusional', 'way', 'believe', 'may', 'strongest', 'point', 'story', 'even', 'emotionless', 'want', 'give', 'second', 'strongest', 'point', 'drama', 'pretty', 'good', 'light', 'hearted', 'love', 'sad', 'say', 'anything', 'like', 'dramas', 'enjoy', 'something', 'laugh', 'care', 'plot', 'drama', 'ruined', 'enjoyment', 'mostly', 'frustrated', 'girl', 'common', 'sense', 'minor', 'characters', 'better', 'job', 'guy', 'apparently', 'flaws', 'piece', 'paper', 'perfect', 'every', 'way', 'drama', 'people', 'want', 'pretty', 'lighthearted', 'cute', 'drama', 'handle', 'drama', 'slice', 'life', 'people', 'second', 'male', 'lead', 'syndrome', 'prefer', 'nicer', 'guys', 'watch', 'really', 'enjoyed', 'drama', 'funny', 'lot', 'silliness', 'foolish', 'behavior', 'story', 'credible', 'series', 'portray', 'romantic', 'real', 'life', 'happenings', 'guess', 'enjoyed', 'much', 'looking', 'something', 'relaxing', 'concerned', 'show', 'usually', 'tries', 'make', 'story', 'tad', 'bit', 'credible', 'drama', 'fancy', 'whole', 'script', 'like', 'impenetrable', 'handsome', 'smart', 'charming', 'prince', 'ugly', 'duckling', 'silly', 'baka', 'honest', 'true', 'innocent', 'love', 'one', 'drama', 'sure', 'female', 'character', 'would', 'considered', 'clingy', 'simpleton', 'self', 'esteem', 'pride', 'show', 'overly', 'conveys', 'idea', 'characters', 'fairy', 'tale', 'depictions', 'suggested', 'first', 'minutes', 'show', 'chasing', 'unicorn', 'loved', 'characters', 'interaction', 'loved', 'lengths', 'female', 'lead', 'went', 'show', 'love', 'support', 'really', 'enjoyed', 'story', 'development', 'silly', 'comedy', 'supporting', 'cast', 'extremely', 'good', 'especially', 'mother', 'best', 'friends', 'loved', 'series', 'well', 'rounded', 'great', 'ending', 'awesome', 'character', 'life', 'changing', 'drama', 'gets', 'laugh', 'forget', 'real', 'life', 'worries', 'intricate', 'problems', 'first', 'minutes', 'started', 'soo', 'cheesy', 'give', 'become', 'normal', 'kim', 'hyung', 'joong', 'dint', 'really', 'impress', 'acting', 'flower', 'boy', 'anyways', 'drama', 'kept', 'captured', 'joongs', 'mother', 'hooked', 'watched', 'two', 'days', 'girl', 'annoying', 'kept', 'following', 'excessively', 'crying', 'saying', 'move', 'boong', 'ju', 'busan', 'boy', 'quite', 'interesting', 'character', 'many', 'kisses', 'normal', 'dramas', 'one', 'two', 'pretty', 'interesting', 'loved', 'lead', 'hani', 'cute', 'think', 'wished', 'story', 'longer', 'see', 'baby', 'know', 'iv', 'seen', 'eps', 'copletely', 'fell', 'love', 'drama', 'characters', 'amazing', 'much', 'already', 'happend', 'want', 'interesting', 'drama', 'right', 'bat', 'comady', 'amazing', 'guys', 'total', 'jerk', 'makes', 'much', 'better', 'want', 'relistic', 'drama', 'would', 'recomend', 'situations', 'absloutly', 'rediculous', 'fall', 'characters', 'almost', 'right', 'way', 'first', 'show', 'fun', 'getting', 'interesting', 'warm', 'ending', 'like', 'characteristic', 'everyone', 'complemented', 'well', 'way', 'grow', 'matured', 'good', 'really', 'like', 'oh', 'ha', 'ni', 'since', 'somehow', 'could', 'relate', 'wondering', 'maybe', 'need', 'someone', 'like', 'baek', 'seung', 'jo', 'mostly', 'emotionless', 'smile', 'priceless', 'dso', 'guess', 'okay', 'funny', 'brother', 'seem', 'experience', 'love', 'xdand', 'one', 'thing', 'happened', 'guy', 'confessed', 'oh', 'ha', 'ni', 'showed', 'short', 'time', 'still', 'nice', 'first', 'korean', 'drama', 'pleasant', 'memory', 'like', 'much', 'arrogant', 'baek', 'seung', 'jo', 'sweet', 'like', 'ha', 'ni', 'one', 'cutest', 'series', 'offer', 'young', 'girls', 'people', 'like', 'nice', 'stories', 'interesting', 'relationship', 'characters', 'think', 'impossible', 'real', 'life', 'like', 'dorama', 'kind', 'first', 'ever', 'drama', 'perfect', 'place', 'playful', 'kiss', 'necessarily', 'confined', 'category', 'family', 'drama', 'family', 'aspects', 'amazing', 'maybe', 'even', 'favorite', 'friendships', 'double', 'plus', 'amazing', 'part', 'seriously', 'walking', 'away', 'heart', 'full', 'coming', 'someone', 'synesthesia', 'friendships', 'drama', 'word', 'warm', 'fit', 'together', 'like', 'two', 'perfect', 'puzzle', 'pieces', 'humor', 'probably', 'favorite', 'part', 'playful', 'kiss', 'full', 'awkward', 'humor', 'screaming', 'inside', 'ermagersh', 'wait', 'nobody', 'else', 'oh', 'well', 'made', 'cry', 'laughter', 'anyway', 'story', 'make', 'hurt', 'though', 'personally', 'made', 'heart', 'turn', 'many', 'times', 'tragic', 'anything', 'like', 'decisions', 'main', 'characters', 'wan', 'na', 'go', 'grab', 'shoulders', 'wholup', 'around', 'bit', 'plot', 'though', 'always', 'full', 'ridiculous', 'antics', 'always', 'playing', 'next', 'episode', 'preview', 'end', 'last', 'episode', 'began', 'thinking', 'back', 'might', 'finished', 'outta', 'recommend', 'think', 'go', 'drama', 'expectations', 'surprise', 'read', 'manga', 'watched', 'adaptations', 'drama', 'enjoy', 'japanese', 'remake', 'better', 'drama', 'special', 'place', 'heart', 'special', 'story', 'straight', 'forward', 'somewhat', 'cliche', 'acting', 'top', 'remarkable', 'either', 'heart', 'drama', 'make', 'want', 'root', 'girl', 'perfect', 'drama', 'watch', 'teenager', 'disagree', 'reviews', 'claiming', 'showed', 'oh', 'hani', 'main', 'girl', 'senseless', 'think', 'actually', 'depicted', 'somewhat', 'realistically', 'swept', 'teenagers', 'get', 'love', 'interests', 'becomes', 'whole', 'world', 'come', 'realize', 'adulthood', 'many', 'aspects', 'finding', 'romance', 'one', 'course', 'cold', 'male', 'lead', 'ridiculing', 'young', 'girl', 'something', 'anyone', 'wants', 'support', 'drama', 'justify', 'asshole', 'either', 'instead', 'show', 'character', 'development', 'budding', 'romance', 'two', 'leads', 'felt', 'like', 'nearly', 'robotic', 'way', 'male', 'lead', 'portrayed', 'beginning', 'something', 'deviated', 'character', 'instead', 'portrayed', 'review', 'said', 'mom', 'helping', 'oh', 'hani', 'stalk', 'son', 'well', 'two', 'leads', 'living', 'house', 'hard', 'depicted', 'stalker', 'residing', 'place', 'honesty', 'mom', 'actually', 'one', 'best', 'reasons', 'watch', 'drama', 'want', 'two', 'get', 'together', 'always', 'longed', 'daughter', 'forceful', 'get', 'way', 'relationship', 'either', 'refreshing', 'see', 'kdrama', 'mum', 'female', 'lead', 'instead', 'drama', 'worth', 'dipping', 'toes', 'least', 'found', 'special', 'spark', 'drama', 'feel', 'fine', 'definitely', 'worth', 'looking', 'watched', 'adaptations', 'drama', 'reasons', 'like', 'like', 'main', 'female', 'portrayed', 'even', 'dumb', 'stupid', 'like', 'suppose', 'plus', 'even', 'obsessed', 'kim', 'hyun', 'joong', 'acting', 'terrible', 'suit', 'playing', 'noaki', 'even', 'little', 'bit', 'cold', 'compared', 'verisons', 'know', 'love', 'japanese', 'anime', 'time', 'justice', 'girl', 'playing', 'hae', 'ra', 'suppose', 'play', 'either', 'sahoko', 'naoki', 'fiance', 'reason', 'decided', 'great', 'idea', 'combine', 'character', 'make', 'play', 'instead', 'getting', 'another', 'actress', 'play', 'character', 'like', 'rest', 'versions', 'story', 'rushed', 'scenes', 'place', 'hard', 'keep', 'scenes', 'happen', 'correct', 'order', 'like', 'anime', 'left', 'confused', 'also', 'unnecessary', 'scenes', 'like', 'hani', 'got', 'mad', 'baek', 'seungjoo', 'left', 'house', 'later', 'admitted', 'fault', 'came', 'back', 'home', 'waste', 'stay', 'true', 'original', 'least', 'try', 'also', 'enough', 'comedy', 'like', 'watching', 'sad', 'documentary', 'school', 'supposes', 'laugh', 'get', 'entertained', 'start', 'drama', 'sad', 'going', 'lie', 'hated', 'male', 'lead', 'female', 'lead', 'bothers', 'mad', 'love', 'guy', 'care', 'future', 'failing', 'class', 'hate', 'male', 'lead', 'okay', 'rude', 'al', 'least', 'give', 'little', 'attention', 'shows', 'cycle', 'first', 'goes', 'says', 'loves', 'try', 'something', 'make', 'love', 'care', 'gets', 'annoying', 'swears', 'love', 'something', 'could', 'skip', 'episodes', 'minutes', 'episodes', 'still', 'understand', 'happened', 'happening', 'family', 'home', 'right', 'would', 'think', 'would', 'get', 'job', 'help', 'dad', 'right', 'nope', 'gets', 'job', 'buy', 'guy', 'clothes', 'sad', 'okay', 'failing', 'get', 'college', 'explain', 'f', 'student', 'care', 'would', 'stopped', 'would', 'like', 'need', 'fix', 'life', 'need', 'care', 'future', 'never', 'rarely', 'shows', 'affection', 'even', 'dating', 'treats', 'like', 'trash', 'always', 'comebacks', 'never', 'anything', 'good', 'everything', 'care', 'less', 'show', 'annoying', 'absolutely', 'hate', 'drama', 'continued', 'finshed', 'thought', 'would', 'become', 'kind', 'nope', 'never', 'happens', 'lets', 'get', 'treated', 'like', 'trash', 'sad', 'first', 'kdrama', 'watched', 'got', 'kdramas', 'althought', 'clearly', 'lacking', 'alot', 'acting', 'ok', 'story', 'really', 'lot', 'substance', 'theres', 'alot', 'randomness', 'show', 'really', 'fit', 'main', 'problem', 'main', 'characters', 'oh', 'ha', 'ni', 'desperate', 'thirsty', 'seriously', 'stalker', 'everything', 'based', 'baek', 'seung', 'jo', 'baek', 'seung', 'jo', 'really', 'mean', 'really', 'buy', 'love', 'story', 'showed', 'hardly', 'interest', 'almost', 'way', 'end', 'still', 'enjoyable', 'way', 'want', 'sit', 'watch', 'something', 'without', 'thinking', 'much', 'plus', 'side', 'characters', 'pretty', 'funny', 'funny', 'moments', 'drama', 'want', 'write', 'long', 'review', 'would', 'pretty', 'much', 'like', 'waste', 'time', 'beating', 'around', 'bush', 'good', 'amount', 'year', 'finally', 'decided', 'give', 'show', 'go', 'started', 'good', 'experience', 'left', 'agitated', 'waste', 'precious', 'hours', 'life', 'probably', 'wo', 'ever', 'get', 'disliked', 'fact', 'whatsoever', 'character', 'development', 'main', 'leads', 'especially', 'jung', 'min', 'character', 'woman', 'remained', 'spoiled', 'child', 'end', 'every', 'character', 'went', 'good', 'transformation', 'even', 'signs', 'positive', 'transformation', 'seen', 'kim', 'hyun', 'joong', 'character', 'probably', 'forgot', 'actress', 'needs', 'mature', 'age', 'compensation', 'added', 'career', 'dream', 'last', 'second', 'hated', 'next', 'none', 'self', 'respect', 'fact', 'relentlessly', 'pursued', 'lead', 'ounce', 'dignity', 'annoying', 'murderous', 'rage', 'despite', 'cold', 'treatment', 'baek', 'seung', 'jo', 'crying', 'like', 'seconds', 'went', 'back', 'rug', 'main', 'never', 'seen', 'weak', 'female', 'lead', 'show', 'enrages', 'shown', 'support', 'male', 'lead', 'career', 'could', 'easily', 'given', 'miss', 'known', 'show', 'continued', 'childishness', 'end', 'kdrama', 'based', 'anime', 'itazura', 'na', 'kiss', 'however', 'added', 'changes', 'plot', 'line', 'exact', 'drama', 'one', 'first', 'dramas', 'watched', 'korean', 'let', 'tell', 'really', 'awesome', 'loved', 'girl', 'persistent', 'never', 'gave', 'hope', 'actually', 'gave', 'ideas', 'get', 'closer', 'crush', 'like', 'wanted', 'literally', 'life', 'really', 'amazing', 'really', 'wanted', 'drama', 'funny', 'sorts', 'ways', 'wonderful', 'lead', 'actress', 'plus', 'many', 'things', 'like', 'always', 'girl', 'wanting', 'extremely', 'good', 'looking', 'guy', 'trust', 'lot', 'thing', 'like', 'oh', 'hani', 'tried', 'act', 'cute', 'idk', 'look', 'good', 'suit', 'face', 'also', 'like', 'way', 'hair', 'styled', 'try', 'make', 'drama', 'like', 'anime', 'get', 'details', 'anime', 'yeah', 'watch', 'plus', 'drama', 'netflix', 'watch', 'take', 'third', 'version', 'story', 'seen', 'ask', 'keep', 'watching', 'different', 'versions', 'story', 'cause', 'honestly', 'ca', 'answer', 'definitely', 'best', 'version', 'although', 'honest', 'every', 'version', 'major', 'flaws', 'built', 'around', 'sympathize', 'characters', 'one', 'fluffy', 'easy', 'sit', 'versions', 'least', 'going', 'put', 'clingy', 'characters', 'jerk', 'male', 'leads', 'really', 'ever', 'see', 'error', 'ways', 'drama', 'versions', 'like', 'say', 'wo', 'watching', 'versions', 'drama', 'might', 'able', 'lie', 'pretend', 'wo', 'ca', 'lie', 'reading', 'might', 'overall', 'drama', 'actors', 'good', 'job', 'good', 'music', 'nice', 'funny', 'drama', 'brightens', 'day', 'foolishness', 'characters', 'make', 'like', 'felt', 'uncomftable', 'seungjo', 'cold', 'hani', 'obsession', 'episodes', 'hani', 'following', 'seungjo', 'around', 'ok', 'first', 'always', 'followed', 'getting', 'creepy', 'seungjo', 'time', 'like', 'also', 'want', 'hani', 'seungjo', 'kind', 'mother', 'follows', 'son', 'around', 'takes', 'photos', 'sticking', 'nose', 'business', 'much', 'hani', 'pridehow', 'hani', 'still', 'like', 'seungjo', 'discriminating', 'hurting', 'badly', 'forgives', 'quickly', 'seungjo', 'hurt', 'hani', 'apologize', 'instead', 'makes', 'smile', 'cut', 'next', 'drama', 'suppose', 'feel', 'watched', 'special', 'episodes', 'cute', 'funny', 'changed', 'opinion', 'seungjo', 'highly', 'recommend', 'watching', 'soooo', 'watched', 'playful', 'kiss', 'absolutely', 'love', 'itazura', 'na', 'kiss', 'japanese', 'anime', 'literally', 'watched', 'itazura', 'na', 'kiss', 'one', 'night', 'literally', 'started', 'like', 'stayed', 'night', 'long', 'finish', 'really', 'captured', 'love', 'story', 'starts', 'high', 'school', 'ends', 'careers', 'something', 'story', 'really', 'clicks', 'girl', 'deemed', 'undesirable', 'lack', 'intelligence', 'lack', 'beauty', 'male', 'overly', 'desirable', 'completely', 'unattainable', 'looks', 'intelligence', 'story', 'cliche', 'know', 'ends', 'many', 'people', 'actually', 'hate', 'story', 'female', 'mc', 'treated', 'poorly', 'male', 'mc', 'ca', 'help', 'love', 'really', 'feel', 'male', 'mc', 'treated', 'mean', 'ways', 'think', 'receptive', 'advances', 'behavior', 'toward', 'tenderness', 'eventually', 'show', 'positive', 'ways', 'good', 'enough', 'wan', 'na', 'talk', 'mean', 'dudes', 'please', 'watch', 'pretty', 'chat', 'could', 'stomach', 'mean', 'male', 'mc', 'pretty', 'toward', 'female', 'mc', 'knowing', 'would', 'inevitably', 'fall', 'love', 'end', 'mean', 'heart', 'would', 'hurt', 'would', 'happy', 'got', 'together', 'end', 'could', 'treat', 'badly', 'likes', 'changes', 'attitude', 'toward', 'severely', 'get', 'together', 'wrong', 'especially', 'think', 'treats', 'others', 'male', 'mc', 'playful', 'kiss', 'anywhere', 'near', 'severe', 'treatment', 'toward', 'female', 'mc', 'bothered', 'hurt', 'actually', 'happy', 'think', 'playful', 'kiss', 'story', 'itazura', 'na', 'kiss', 'something', 'take', 'grain', 'salt', 'recognize', 'might', 'looking', 'relationship', 'like', 'still', 'appreciate', 'story', 'watching', 'liked', 'live', 'expectations', 'though', 'felt', 'acting', 'best', 'really', 'enjoy', 'chemistry', 'two', 'main', 'characters', 'felt', 'could', 'done', 'lot', 'better', 'casting', 'done', 'better', 'job', 'plot', 'watched', 'revisions', 'japan', 'taiwan', 'pretty', 'amazing', 'ways', 'adapted', 'really', 'lovesick', 'girl', 'thought', 'adaptation', 'could', 'done', 'lot', 'better', 'said', 'still', 'watched', 'end', 'good', 'filler', 'show', 'watch', 'anything', 'good', 'watch', 'playful', 'kiss', 'start', 'first', 'started', 'watching', 'drama', 'read', 'fanfiction', 'inspired', 'drama', 'got', 'curious', 'loved', 'beginning', 'felt', 'got', 'really', 'long', 'stopped', 'watching', 'episode', 'got', 'watched', 'last', 'episodes', 'cried', 'freaking', 'cute', 'drama', 'really', 'enjoyed', 'sure', 'going', 'check', 'japanese', 'thai', 'version', 'laughed', 'cried', 'cringed', 'drama', 'everything', 'good', 'drama', 'drama', 'cute', 'watchable', 'love', 'drama', 'best', 'drama', 'ever', 'seen', 'love', 'male', 'lead', 'kim', 'hyun', 'joong', 'cute', 'handsome', 'lovely', 'love', 'much', 'best', 'drama', 'please', 'watch', 'drama', 'watch', 'dramas', 'noona', 'looks', 'cute', 'acting', 'quite', 'beautiful', 'good', 'make', 'play', 'full', 'kiss', 'happy', 'got', 'season', 'episode', 'suitable', 'subtitles', 'happy', 'bcoz', 'watch', 'video', 'even', 'oppa', 'kim', 'hyun', 'joong', 'oppa', 'fighting', 'saranghaee', 'saw', 'show', 'early', 'drama', 'watching', 'first', 'itazura', 'na', 'kiss', 'incarnations', 'saw', 'honestly', 'seeing', 'versions', 'taiwanese', 'japanese', 'versions', 'favorite', 'version', 'like', 'hyun', 'joong', 'plays', 'stoic', 'somewhat', 'mean', 'male', 'lead', 'well', 'jung', 'min', 'version', 'female', 'lead', 'might', 'one', 'better', 'portrayals', 'however', 'really', 'like', 'show', 'falls', 'short', 'mostly', 'give', 'full', 'story', 'since', 'stops', 'shortly', 'marriage', 'part', 'story', 'get', 'see', 'best', 'parts', 'story', 'opinion', 'happen', 'two', 'characters', 'married', 'reason', 'get', 'see', 'full', 'change', 'male', 'lead', 'best', 'transformation', 'female', 'lead', 'said', 'music', 'best', 'version', 'production', 'quality', 'probably', 'best', 'versions', 'well', 'definitely', 'worth', 'watching', 'person', 'like', 'values', 'plot', 'dramatics', 'drama', 'jo', 'shown', 'perfectionist', 'excelling', 'everything', 'touches', 'came', 'point', 'viewers', 'led', 'believe', 'perhaps', 'male', 'lead', 'god', 'showing', 'flaw', 'except', 'mood', 'swings', 'made', 'character', 'bit', 'academics', 'without', 'ever', 'studying', 'champion', 'business', 'clue', 'ha', 'ni', 'stupid', 'cringey', 'following', 'stalking', 'dude', 'rejected', 'far', 'times', 'could', 'count', 'personally', 'dislike', 'characters', 'ambitious', 'callings', 'whole', 'life', 'naively', 'rotating', 'around', 'people', 'seem', 'replicate', 'devotion', 'jo', 'extremely', 'rude', 'ha', 'ni', 'belittling', 'ha', 'ni', 'seems', 'give', 'zero', 'whole', 'relation', 'two', 'solely', 'led', 'seung', 'jo', 'announces', 'marriage', 'without', 'consulting', 'ha', 'ni', 'kisses', 'challenge', 'forget', 'even', 'wishes', 'cutting', 'contacts', 'drama', 'recommendation', 'come', 'home', 'extremely', 'tired', 'work', 'need', 'mindless', 'drama', 'process', 'anything', 'heartwarming', 'drama', 'felt', 'fresh', 'every', 'time', 'watched', 'first', 'korean', 'drama', 'watched', 'unaware', 'series', 'school', 'days', 'friend', 'suggested', 'watch', 'first', 'felt', 'weird', 'watch', 'drama', 'ca', 'understand', 'help', 'subtitles', 'started', 'love', 'loved', 'character', 'seung', 'jo', 'mother', 'though', 'felt', 'bad', 'second', 'leads', 'happy', 'ending', 'whole', 'enjoyable', 'series', 'fun', 'watching', 'get', 'bored', 'watch', 'guilty', 'speaking', 'supposed', 'like', 'drama', 'mean', 'could', 'nothing', 'meaningful', 'ever', 'happens', 'completely', 'jung', 'min', 'carries', 'drama', 'shoulders', 'start', 'finish', 'understand', 'many', 'might', 'question', 'choices', 'blindly', 'following', 'hyun', 'joong', 'around', 'think', 'blinded', 'love', 'also', 'like', 'impact', 'makes', 'decisions', 'based', 'says', 'without', 'even', 'realizing', 'later', 'take', 'bubbly', 'cotton', 'candy', 'drama', 'simple', 'fluffy', 'really', 'enjoyed', 'watching', 'watched', 'drama', 'first', 'place', 'kim', 'hyun', 'joong', 'heard', 'main', 'lead', 'drama', 'ruched', 'watch', 'whan', 'watched', 'realy', 'liked', 'funny', 'like', 'adiction', 'could', 'stop', 'watching', 'main', 'leads', 'kim', 'hyun', 'joong', 'jung', 'min', 'found', 'drama', 'realy', 'charming', 'super', 'funny', 'fairytail', 'ending', 'realy', 'regreat', 'single', 'second', 'deffinetly', 'one', 'favorit', 'dramas', 'hope', 'u', 'watch', 'high', 'school', 'episodes', 'funny', 'college', 'years', 'frustrating', 'bore', 'last', 'couple', 'episodes', 'super', 'amazing', 'end', 'cute', 'even', 'relationship', 'develops', 'leads', 'strange', 'go', 'way', 'hell', 'serious', 'without', 'real', 'development', 'thats', 'cant', 'give', 'higher', 'score', 'leads', 'great', 'job', 'thier', 'role', 'actress', 'played', 'oh', 'ha', 'ni', 'acted', 'well', 'immature', 'stalkerish', 'girl', 'grown', 'person', 'knows', 'want', 'loved', 'khj', 'bof', 'disliked', 'character', 'pk', 'great', 'job', 'acting', 'snobby', 'emotionless', 'baek', 'seung', 'jo', 'bsj', 'really', 'got', 'nerves', 'though', 'never', 'showed', 'enough', 'emotion', 'ha', 'ni', 'made', 'thier', 'relationship', 'end', 'really', 'strange', 'hated', 'character', 'supporting', 'cast', 'funny', 'served', 'thier', 'cool', 'music', 'nothing', 'could', 'written', 'better', 'end', 'welcome', 'surprise', 'drama', 'really', 'gud', 'friends', 'kept', 'pushing', 'watch', 'kept', 'delaying', 'must', 'say', 'impress', 'one', 'favorite', 'ending', 'episode', 'kiss', 'awesome', 'n', 'rain', 'weather', 'may', 'always', 'seem', 'b', 'actually', 'made', 'even', 'better', 'must', 'say', 'playa', 'game', 'improved', 'sure', 'girls', 'wont', 'survive', 'romantic', 'assault', 'show', 'really', 'luv', 'mother', 'get', 'go', 'like', 'another', 'oh', 'ha', 'ni', 'taking', 'pictures', 'every', 'chance', 'gets', 'spreading', 'gossips', 'skool', 'lol', 'window', 'scenes', 'every', 'nice', 'giving', 'look', 'inside', 'characters', 'deal', 'situation', 'face', 'think', 'chemistry', 'leads', 'gud', 'prob', 'playful', 'kiss', 'u', 'gud', 'anyway', 'ppl', 'drama', 'definite', 'watch', 'ok', 'u', 'laughing', 'sad', 'laughin', 'miss', 'already', 'want', 'plzzz', 'really', 'loved', 'show', 'drag', 'way', 'presented', 'show', 'awesome', 'actually', 'read', 'manga', 'like', 'years', 'ago', 'watched', 'kdrama', 'absolutely', 'fell', 'since', 'know', 'show', 'drag', 'take', 'negative', 'way', 'enjoyed', 'story', 'read', 'since', 'amazing', 'stars', 'kim', 'hyun', 'joong', 'even', 'though', 'found', 'asshole', 'drama', 'absolutely', 'handsome', 'jung', 'min', 'kawaii', 'serious', 'story', 'like', 'big', 'kdramas', 'slice', 'life', 'yes', 'watched', 'like', 'times', 'first', 'meeting', 'south', 'korea', 'irritating', 'lead', 'actor', 'also', 'charm', 'drama', 'love', 'coming', 'back', 'drama', 'one', 'must', 'watch', 'drama', 'really', 'spl', 'introduced', 'world', 'korean', 'entertainment', 'loved', 'one', 'kim', 'hyun', 'joong', 'jung', 'min', 'first', 'fav', 'korean', 'actors', 'acted', 'cute', 'looked', 'really', 'pretty', 'hyun', 'joong', 'wt', 'say', 'looks', 'really', 'want', 'add', 'dozen', 'adjectives', 'hehe', 'matter', 'many', 'great', 'dramas', 'come', 'always', 'special', 'one', 'must', 'watch', 'fact', 'story', 'little', 'altered', 'based', 'itazura', 'na', 'kiss', 'acting', 'satisfactorily', 'done', 'leave', 'partly', 'help', 'compare', 'original', 'adaptation', 'famous', 'taiwanese', 'adaptation', 'drama', 'started', 'lot', 'better', 'playful', 'kiss', 'oh', 'hani', 'cute', 'love', 'way', 'dresses', 'even', 'hair', 'style', 'cute', 'funny', 'yet', 'drama', 'parts', 'viewers', 'need', 'sympathies', 'lacking', 'feel', 'way', 'cries', 'say', 'anime', 'lot', 'better', 'cried', 'laugh', 'lot', 'watching', 'anime', 'adaptation', 'appreciate', 'efforts', 'making', 'bet', 'spend', 'big', 'production', 'cost', 'still', 'beat', 'original', 'related', 'story', 'however', 'ending', 'back', 'drama', 'plot', 'old', 'kind', 'start', 'drag', 'end', 'though', 'acting', 'female', 'lead', 'much', 'better', 'acting', 'male', 'lead', 'khj', 'killer', 'smile', 'mom', 'best', 'part', 'whole', 'drama', 'absolutely', 'hilarious', 'edited', 'skye', 'order', 'improve', 'grammar', 'spelling', 'would', 'give', 'could', 'drama', 'shame', 'women', 'main', 'female', 'totally', 'obsessed', 'suffers', 'kind', 'mental', 'illness', 'totally', 'crazy', 'irritating', 'annoying', 'anything', 'world', 'even', 'understand', 'women', 'support', 'kind', 'thing', 'also', 'boring', 'story', 'sets', 'high', 'school', 'college', 'boring', 'boring', 'nothing', 'different', 'everyone', 'crazy', 'drama', 'hate', 'main', 'male', 'normal', 'reaction', 'someone', 'stupid', 'things', 'rejected', 'times', 'ok', 'going', 'throw', 'scenario', 'guys', 'ever', 'drama', 'felt', 'guilty', 'watched', 'yet', 'watching', 'playful', 'kiss', 'really', 'great', 'like', 'reason', 'watched', 'basic', 'premise', 'around', 'story', 'without', 'going', 'main', 'spoiler', 'territory', 'main', 'female', 'lead', 'house', 'gets', 'destroyed', 'moves', 'main', 'male', 'lead', 'house', 'story', 'get', 'really', 'better', 'drama', 'goes', 'romance', 'feel', 'rushed', 'really', 'nice', 'thing', 'go', 'drama', 'worrying', 'whole', 'story', 'whole', 'give', 'rally', 'honest', 'drama', 'acting', 'great', 'kim', 'hyun', 'joong', 'kim', 'hyun', 'joong', 'great', 'boys', 'flower', 'one', 'favorites', 'watch', 'anything', 'jung', 'min', 'pretty', 'great', 'oh', 'ha', 'ni', 'tried', 'really', 'great', 'cast', 'fantastic', 'around', 'give', 'ok', 'ost', 'show', 'actually', 'really', 'fantastic', 'listened', 'writing', 'moments', 'listen', 'ost', 'finishing', 'drama', 'music', 'give', 'recommend', 'would', 'rewatch', 'simple', 'answer', 'yes', 'would', 'love', 'go', 'back', 'rewatch', 'kim', 'hyun', 'joong', 'one', 'faves', 'would', 'recommend', 'playful', 'kiss', 'people', 'love', 'boys', 'flower', 'starting', 'getting', 'k', 'dramas', 'rewatch', 'value', 'overall', 'give', 'playful', 'kiss', 'feel', 'like', 'would', 'great', 'episodes', 'kinda', 'flt', 'little', 'bored', 'good', 'watch', 'kim', 'hyung', 'really', 'mean', 'main', 'lead', 'good', 'way', 'cute', 'little', 'story', 'suppose', 'like', 'kims', 'dark', 'hair', 'much', 'better', 'boys', 'flowers', 'honest', 'watched', 'kim', 'female', 'lead', 'side', 'stories', 'kind', 'lame', 'still', 'like', 'said', 'good', 'watch', 'reviewed', 'really', 'found', 'time', 'watch', 'earlier', 'actually', 'good', 'kinda', 'cute', 'drama', 'kim', 'hyun', 'joon', 'way', 'good', 'actor', 'watch', 'worth']\n"
     ]
    }
   ],
   "source": [
    "filteredWords = []\n",
    "\n",
    "for review in review_data:\n",
    "    words = word_tokenize(review.lower())\n",
    "    \n",
    "    for word in words:\n",
    "        if word not in stopWords:\n",
    "            if(word.isalpha()):\n",
    "                filteredWords.append(word)\n",
    "\n",
    "print(filteredWords)"
   ]
  },
  {
   "cell_type": "code",
   "execution_count": 62,
   "metadata": {},
   "outputs": [],
   "source": [
    "lemmatizer = WordNetLemmatizer()\n",
    "lem_wordlist = []\n",
    "for word in filteredWords:\n",
    "    lem_word = lemmatizer.lemmatize(word)\n",
    "    if(lem_word == 'watched'):\n",
    "           lem_word = 'watch'\n",
    "            \n",
    "    if(lem_word == 'mom'):\n",
    "        lem_word = 'mother'\n",
    "        \n",
    "    lem_wordlist.append(lem_word)"
   ]
  },
  {
   "cell_type": "code",
   "execution_count": 79,
   "metadata": {},
   "outputs": [
    {
     "data": {
      "text/html": [
       "<div>\n",
       "<style scoped>\n",
       "    .dataframe tbody tr th:only-of-type {\n",
       "        vertical-align: middle;\n",
       "    }\n",
       "\n",
       "    .dataframe tbody tr th {\n",
       "        vertical-align: top;\n",
       "    }\n",
       "\n",
       "    .dataframe thead th {\n",
       "        text-align: right;\n",
       "    }\n",
       "</style>\n",
       "<table border=\"1\" class=\"dataframe\">\n",
       "  <thead>\n",
       "    <tr style=\"text-align: right;\">\n",
       "      <th></th>\n",
       "      <th>words</th>\n",
       "      <th>freq</th>\n",
       "    </tr>\n",
       "  </thead>\n",
       "  <tbody>\n",
       "    <tr>\n",
       "      <th>0</th>\n",
       "      <td>drama</td>\n",
       "      <td>255</td>\n",
       "    </tr>\n",
       "    <tr>\n",
       "      <th>1</th>\n",
       "      <td>like</td>\n",
       "      <td>159</td>\n",
       "    </tr>\n",
       "    <tr>\n",
       "      <th>2</th>\n",
       "      <td>watch</td>\n",
       "      <td>137</td>\n",
       "    </tr>\n",
       "    <tr>\n",
       "      <th>4</th>\n",
       "      <td>character</td>\n",
       "      <td>98</td>\n",
       "    </tr>\n",
       "    <tr>\n",
       "      <th>5</th>\n",
       "      <td>story</td>\n",
       "      <td>97</td>\n",
       "    </tr>\n",
       "    <tr>\n",
       "      <th>9</th>\n",
       "      <td>love</td>\n",
       "      <td>88</td>\n",
       "    </tr>\n",
       "  </tbody>\n",
       "</table>\n",
       "</div>"
      ],
      "text/plain": [
       "       words  freq\n",
       "0      drama   255\n",
       "1       like   159\n",
       "2      watch   137\n",
       "4  character    98\n",
       "5      story    97\n",
       "9       love    88"
      ]
     },
     "execution_count": 79,
     "metadata": {},
     "output_type": "execute_result"
    }
   ],
   "source": [
    "#frequent_wordList = FreqDist(filteredWords)\n",
    "frequent_wordList = FreqDist(lem_wordlist)\n",
    "frequent_df = pd.DataFrame(list(frequent_wordList.most_common(10)), columns=['words', 'freq'])\n",
    "frequent_df_f = frequent_df.iloc[[0,1,2,4,5,9], [0,1]]\n",
    "frequent_df_f"
   ]
  },
  {
   "cell_type": "code",
   "execution_count": 81,
   "metadata": {},
   "outputs": [],
   "source": [
    "# frequent 2 words phrases\n",
    "#bigram_finder = collocations.BigramCollocationFinder.from_words(filteredWords)\n",
    "bigram_finder = collocations.BigramCollocationFinder.from_words(lem_wordlist)\n",
    "bigram_finder.ngram_fd.most_common(20)\n",
    "bigram_df = pd.DataFrame(list(bigram_finder.ngram_fd.most_common(20)), columns=['words', 'freq'])"
   ]
  },
  {
   "cell_type": "code",
   "execution_count": 135,
   "metadata": {},
   "outputs": [
    {
     "data": {
      "text/html": [
       "<div>\n",
       "<style scoped>\n",
       "    .dataframe tbody tr th:only-of-type {\n",
       "        vertical-align: middle;\n",
       "    }\n",
       "\n",
       "    .dataframe tbody tr th {\n",
       "        vertical-align: top;\n",
       "    }\n",
       "\n",
       "    .dataframe thead th {\n",
       "        text-align: right;\n",
       "    }\n",
       "</style>\n",
       "<table border=\"1\" class=\"dataframe\">\n",
       "  <thead>\n",
       "    <tr style=\"text-align: right;\">\n",
       "      <th></th>\n",
       "      <th>words</th>\n",
       "      <th>freq</th>\n",
       "    </tr>\n",
       "  </thead>\n",
       "  <tbody>\n",
       "    <tr>\n",
       "      <th>0</th>\n",
       "      <td>ha ni</td>\n",
       "      <td>91</td>\n",
       "    </tr>\n",
       "    <tr>\n",
       "      <th>1</th>\n",
       "      <td>hyun joong</td>\n",
       "      <td>58</td>\n",
       "    </tr>\n",
       "    <tr>\n",
       "      <th>2</th>\n",
       "      <td>seung jo</td>\n",
       "      <td>55</td>\n",
       "    </tr>\n",
       "    <tr>\n",
       "      <th>6</th>\n",
       "      <td>playful kiss</td>\n",
       "      <td>30</td>\n",
       "    </tr>\n",
       "    <tr>\n",
       "      <th>7</th>\n",
       "      <td>jung min</td>\n",
       "      <td>20</td>\n",
       "    </tr>\n",
       "    <tr>\n",
       "      <th>8</th>\n",
       "      <td>female lead</td>\n",
       "      <td>20</td>\n",
       "    </tr>\n",
       "    <tr>\n",
       "      <th>9</th>\n",
       "      <td>male lead</td>\n",
       "      <td>20</td>\n",
       "    </tr>\n",
       "    <tr>\n",
       "      <th>12</th>\n",
       "      <td>joon gu</td>\n",
       "      <td>15</td>\n",
       "    </tr>\n",
       "    <tr>\n",
       "      <th>13</th>\n",
       "      <td>boy flower</td>\n",
       "      <td>13</td>\n",
       "    </tr>\n",
       "    <tr>\n",
       "      <th>15</th>\n",
       "      <td>watch drama</td>\n",
       "      <td>13</td>\n",
       "    </tr>\n",
       "    <tr>\n",
       "      <th>16</th>\n",
       "      <td>drama watch</td>\n",
       "      <td>12</td>\n",
       "    </tr>\n",
       "    <tr>\n",
       "      <th>17</th>\n",
       "      <td>like drama</td>\n",
       "      <td>10</td>\n",
       "    </tr>\n",
       "    <tr>\n",
       "      <th>19</th>\n",
       "      <td>high school</td>\n",
       "      <td>9</td>\n",
       "    </tr>\n",
       "  </tbody>\n",
       "</table>\n",
       "</div>"
      ],
      "text/plain": [
       "            words  freq\n",
       "0          ha ni     91\n",
       "1     hyun joong     58\n",
       "2       seung jo     55\n",
       "6   playful kiss     30\n",
       "7       jung min     20\n",
       "8    female lead     20\n",
       "9      male lead     20\n",
       "12       joon gu     15\n",
       "13    boy flower     13\n",
       "15   watch drama     13\n",
       "16   drama watch     12\n",
       "17    like drama     10\n",
       "19   high school      9"
      ]
     },
     "execution_count": 135,
     "metadata": {},
     "output_type": "execute_result"
    }
   ],
   "source": [
    "bigram_df_f = bigram_df.iloc[[0,1,2,6,7,8,9,12,13,15,16,17,19], [0,1]]\n",
    "\n",
    "bigram_df_f.words = convert_tuple(bigram_df_f.words)    \n",
    "bigram_df_f"
   ]
  },
  {
   "cell_type": "code",
   "execution_count": 146,
   "metadata": {},
   "outputs": [
    {
     "name": "stderr",
     "output_type": "stream",
     "text": [
      "/anaconda3/lib/python3.6/site-packages/ipykernel_launcher.py:1: SettingWithCopyWarning: \n",
      "A value is trying to be set on a copy of a slice from a DataFrame\n",
      "\n",
      "See the caveats in the documentation: http://pandas.pydata.org/pandas-docs/stable/indexing.html#indexing-view-versus-copy\n",
      "  \"\"\"Entry point for launching an IPython kernel.\n"
     ]
    },
    {
     "data": {
      "text/html": [
       "<div>\n",
       "<style scoped>\n",
       "    .dataframe tbody tr th:only-of-type {\n",
       "        vertical-align: middle;\n",
       "    }\n",
       "\n",
       "    .dataframe tbody tr th {\n",
       "        vertical-align: top;\n",
       "    }\n",
       "\n",
       "    .dataframe thead th {\n",
       "        text-align: right;\n",
       "    }\n",
       "</style>\n",
       "<table border=\"1\" class=\"dataframe\">\n",
       "  <thead>\n",
       "    <tr style=\"text-align: right;\">\n",
       "      <th></th>\n",
       "      <th>words</th>\n",
       "      <th>freq</th>\n",
       "    </tr>\n",
       "    <tr>\n",
       "      <th>words</th>\n",
       "      <th></th>\n",
       "      <th></th>\n",
       "    </tr>\n",
       "  </thead>\n",
       "  <tbody>\n",
       "    <tr>\n",
       "      <th>boy flower</th>\n",
       "      <td>NaN</td>\n",
       "      <td>13</td>\n",
       "    </tr>\n",
       "    <tr>\n",
       "      <th>female lead</th>\n",
       "      <td>NaN</td>\n",
       "      <td>20</td>\n",
       "    </tr>\n",
       "    <tr>\n",
       "      <th>ha ni</th>\n",
       "      <td>NaN</td>\n",
       "      <td>91</td>\n",
       "    </tr>\n",
       "    <tr>\n",
       "      <th>high school</th>\n",
       "      <td>NaN</td>\n",
       "      <td>9</td>\n",
       "    </tr>\n",
       "    <tr>\n",
       "      <th>hyun joong</th>\n",
       "      <td>NaN</td>\n",
       "      <td>58</td>\n",
       "    </tr>\n",
       "    <tr>\n",
       "      <th>joon gu</th>\n",
       "      <td>NaN</td>\n",
       "      <td>15</td>\n",
       "    </tr>\n",
       "    <tr>\n",
       "      <th>jung min</th>\n",
       "      <td>NaN</td>\n",
       "      <td>20</td>\n",
       "    </tr>\n",
       "    <tr>\n",
       "      <th>like drama</th>\n",
       "      <td>NaN</td>\n",
       "      <td>10</td>\n",
       "    </tr>\n",
       "    <tr>\n",
       "      <th>male lead</th>\n",
       "      <td>NaN</td>\n",
       "      <td>20</td>\n",
       "    </tr>\n",
       "    <tr>\n",
       "      <th>playful kiss</th>\n",
       "      <td>NaN</td>\n",
       "      <td>30</td>\n",
       "    </tr>\n",
       "    <tr>\n",
       "      <th>seung jo</th>\n",
       "      <td>NaN</td>\n",
       "      <td>55</td>\n",
       "    </tr>\n",
       "    <tr>\n",
       "      <th>watch drama</th>\n",
       "      <td>NaN</td>\n",
       "      <td>25</td>\n",
       "    </tr>\n",
       "  </tbody>\n",
       "</table>\n",
       "</div>"
      ],
      "text/plain": [
       "               words  freq\n",
       "words                     \n",
       "boy flower       NaN    13\n",
       "female lead      NaN    20\n",
       "ha ni            NaN    91\n",
       "high school      NaN     9\n",
       "hyun joong       NaN    58\n",
       "joon gu          NaN    15\n",
       "jung min         NaN    20\n",
       "like drama       NaN    10\n",
       "male lead        NaN    20\n",
       "playful kiss     NaN    30\n",
       "seung jo         NaN    55\n",
       "watch drama      NaN    25"
      ]
     },
     "execution_count": 146,
     "metadata": {},
     "output_type": "execute_result"
    }
   ],
   "source": [
    "bigram_df_f.words[16] = bigram_df_f.words[15]\n",
    "bigram_new = bigram_df_f.groupby(by='words').sum(), columns=['words', 'freq']\n",
    "bigram_new"
   ]
  },
  {
   "cell_type": "code",
   "execution_count": 124,
   "metadata": {},
   "outputs": [],
   "source": [
    "#trigram_finder = collocations.TrigramCollocationFinder.from_words(filteredWords)\n",
    "trigram_finder = collocations.TrigramCollocationFinder.from_words(lem_wordlist)\n",
    "trigram_finder.ngram_fd.most_common(10)\n",
    "trigram_df = pd.DataFrame(list(trigram_finder.ngram_fd.most_common(10)), columns=['words', 'freq'])\n",
    "trigram_df_f = trigram_df.iloc[[3,5,6,9], [0,1]]"
   ]
  },
  {
   "cell_type": "code",
   "execution_count": 125,
   "metadata": {},
   "outputs": [
    {
     "data": {
      "text/html": [
       "<div>\n",
       "<style scoped>\n",
       "    .dataframe tbody tr th:only-of-type {\n",
       "        vertical-align: middle;\n",
       "    }\n",
       "\n",
       "    .dataframe tbody tr th {\n",
       "        vertical-align: top;\n",
       "    }\n",
       "\n",
       "    .dataframe thead th {\n",
       "        text-align: right;\n",
       "    }\n",
       "</style>\n",
       "<table border=\"1\" class=\"dataframe\">\n",
       "  <thead>\n",
       "    <tr style=\"text-align: right;\">\n",
       "      <th></th>\n",
       "      <th>words</th>\n",
       "      <th>freq</th>\n",
       "    </tr>\n",
       "  </thead>\n",
       "  <tbody>\n",
       "    <tr>\n",
       "      <th>3</th>\n",
       "      <td>itazura na kiss</td>\n",
       "      <td>18</td>\n",
       "    </tr>\n",
       "    <tr>\n",
       "      <th>5</th>\n",
       "      <td>seung jo mother</td>\n",
       "      <td>6</td>\n",
       "    </tr>\n",
       "    <tr>\n",
       "      <th>6</th>\n",
       "      <td>worst drama ever</td>\n",
       "      <td>4</td>\n",
       "    </tr>\n",
       "    <tr>\n",
       "      <th>9</th>\n",
       "      <td>ha ni friend</td>\n",
       "      <td>3</td>\n",
       "    </tr>\n",
       "  </tbody>\n",
       "</table>\n",
       "</div>"
      ],
      "text/plain": [
       "               words  freq\n",
       "3   itazura na kiss     18\n",
       "5   seung jo mother      6\n",
       "6  worst drama ever      4\n",
       "9      ha ni friend      3"
      ]
     },
     "execution_count": 125,
     "metadata": {},
     "output_type": "execute_result"
    }
   ],
   "source": [
    "# convert tuple to string function\n",
    "def convert_tuple(list_convert):\n",
    "    wordlist = []\n",
    "    for num, item in enumerate(list_convert):\n",
    "        word = ''\n",
    "    \n",
    "        if num == len(list_convert):\n",
    "            word = word.join(item)\n",
    "        else:\n",
    "            word = word.join(str(i) + ' ' for i in item)\n",
    "        \n",
    "        wordlist.append(word)\n",
    "\n",
    "    return wordlist\n",
    "    \n",
    "trigram_df_f.words = convert_tuple(trigram_df_f.words)\n",
    "trigram_df_f"
   ]
  },
  {
   "cell_type": "code",
   "execution_count": 30,
   "metadata": {},
   "outputs": [
    {
     "data": {
      "text/plain": [
       "[(('loved', 'kim', 'hyun', 'joong'), 3),\n",
       " (('story', 'itazura', 'na', 'kiss'), 3),\n",
       " (('drama', 'kim', 'hyun', 'joong'), 3),\n",
       " (('kim', 'hyun', 'joong', 'jung'), 3),\n",
       " (('hyun', 'joong', 'jung', 'min'), 3),\n",
       " (('kim', 'hyun', 'joong', 'attractive'), 2),\n",
       " (('especially', 'baek', 'seung', 'jo'), 2)]"
      ]
     },
     "execution_count": 30,
     "metadata": {},
     "output_type": "execute_result"
    }
   ],
   "source": [
    "#quagram_finder = collocations.QuadgramCollocationFinder.from_words(filteredWords)\n",
    "quagram_finder = collocations.QuadgramCollocationFinder.from_words(lem_wordlist)\n",
    "quagram_finder.ngram_fd.most_common(7)"
   ]
  },
  {
   "cell_type": "code",
   "execution_count": 131,
   "metadata": {},
   "outputs": [
    {
     "data": {
      "text/html": [
       "<div>\n",
       "<style scoped>\n",
       "    .dataframe tbody tr th:only-of-type {\n",
       "        vertical-align: middle;\n",
       "    }\n",
       "\n",
       "    .dataframe tbody tr th {\n",
       "        vertical-align: top;\n",
       "    }\n",
       "\n",
       "    .dataframe thead th {\n",
       "        text-align: right;\n",
       "    }\n",
       "</style>\n",
       "<table border=\"1\" class=\"dataframe\">\n",
       "  <thead>\n",
       "    <tr style=\"text-align: right;\">\n",
       "      <th></th>\n",
       "      <th>words</th>\n",
       "      <th>freq</th>\n",
       "    </tr>\n",
       "  </thead>\n",
       "  <tbody>\n",
       "    <tr>\n",
       "      <th>0</th>\n",
       "      <td>drama</td>\n",
       "      <td>255</td>\n",
       "    </tr>\n",
       "    <tr>\n",
       "      <th>1</th>\n",
       "      <td>like</td>\n",
       "      <td>159</td>\n",
       "    </tr>\n",
       "    <tr>\n",
       "      <th>2</th>\n",
       "      <td>watch</td>\n",
       "      <td>137</td>\n",
       "    </tr>\n",
       "    <tr>\n",
       "      <th>4</th>\n",
       "      <td>character</td>\n",
       "      <td>98</td>\n",
       "    </tr>\n",
       "    <tr>\n",
       "      <th>5</th>\n",
       "      <td>story</td>\n",
       "      <td>97</td>\n",
       "    </tr>\n",
       "    <tr>\n",
       "      <th>0</th>\n",
       "      <td>ha ni</td>\n",
       "      <td>91</td>\n",
       "    </tr>\n",
       "    <tr>\n",
       "      <th>9</th>\n",
       "      <td>love</td>\n",
       "      <td>88</td>\n",
       "    </tr>\n",
       "    <tr>\n",
       "      <th>1</th>\n",
       "      <td>hyun joong</td>\n",
       "      <td>58</td>\n",
       "    </tr>\n",
       "    <tr>\n",
       "      <th>2</th>\n",
       "      <td>seung jo</td>\n",
       "      <td>55</td>\n",
       "    </tr>\n",
       "    <tr>\n",
       "      <th>6</th>\n",
       "      <td>playful kiss</td>\n",
       "      <td>30</td>\n",
       "    </tr>\n",
       "    <tr>\n",
       "      <th>9</th>\n",
       "      <td>male lead</td>\n",
       "      <td>20</td>\n",
       "    </tr>\n",
       "    <tr>\n",
       "      <th>8</th>\n",
       "      <td>female lead</td>\n",
       "      <td>20</td>\n",
       "    </tr>\n",
       "    <tr>\n",
       "      <th>7</th>\n",
       "      <td>jung min</td>\n",
       "      <td>20</td>\n",
       "    </tr>\n",
       "    <tr>\n",
       "      <th>3</th>\n",
       "      <td>itazura na kiss</td>\n",
       "      <td>18</td>\n",
       "    </tr>\n",
       "    <tr>\n",
       "      <th>12</th>\n",
       "      <td>joon gu</td>\n",
       "      <td>15</td>\n",
       "    </tr>\n",
       "    <tr>\n",
       "      <th>13</th>\n",
       "      <td>boy flower</td>\n",
       "      <td>13</td>\n",
       "    </tr>\n",
       "    <tr>\n",
       "      <th>15</th>\n",
       "      <td>watch drama</td>\n",
       "      <td>13</td>\n",
       "    </tr>\n",
       "    <tr>\n",
       "      <th>16</th>\n",
       "      <td>drama watch</td>\n",
       "      <td>12</td>\n",
       "    </tr>\n",
       "    <tr>\n",
       "      <th>17</th>\n",
       "      <td>like drama</td>\n",
       "      <td>10</td>\n",
       "    </tr>\n",
       "    <tr>\n",
       "      <th>19</th>\n",
       "      <td>high school</td>\n",
       "      <td>9</td>\n",
       "    </tr>\n",
       "    <tr>\n",
       "      <th>5</th>\n",
       "      <td>seung jo mother</td>\n",
       "      <td>6</td>\n",
       "    </tr>\n",
       "    <tr>\n",
       "      <th>6</th>\n",
       "      <td>worst drama ever</td>\n",
       "      <td>4</td>\n",
       "    </tr>\n",
       "    <tr>\n",
       "      <th>9</th>\n",
       "      <td>ha ni friend</td>\n",
       "      <td>3</td>\n",
       "    </tr>\n",
       "  </tbody>\n",
       "</table>\n",
       "</div>"
      ],
      "text/plain": [
       "                words  freq\n",
       "0               drama   255\n",
       "1                like   159\n",
       "2               watch   137\n",
       "4           character    98\n",
       "5               story    97\n",
       "0              ha ni     91\n",
       "9                love    88\n",
       "1         hyun joong     58\n",
       "2           seung jo     55\n",
       "6       playful kiss     30\n",
       "9          male lead     20\n",
       "8        female lead     20\n",
       "7           jung min     20\n",
       "3    itazura na kiss     18\n",
       "12           joon gu     15\n",
       "13        boy flower     13\n",
       "15       watch drama     13\n",
       "16       drama watch     12\n",
       "17        like drama     10\n",
       "19       high school      9\n",
       "5    seung jo mother      6\n",
       "6   worst drama ever      4\n",
       "9       ha ni friend      3"
      ]
     },
     "execution_count": 131,
     "metadata": {},
     "output_type": "execute_result"
    }
   ],
   "source": [
    "final_df = bigram_df_f.append(trigram_df_f).append(frequent_df_f).sort_values('freq', ascending=False)\n",
    "final_df"
   ]
  },
  {
   "cell_type": "code",
   "execution_count": null,
   "metadata": {
    "collapsed": true
   },
   "outputs": [],
   "source": []
  }
 ],
 "metadata": {
  "kernelspec": {
   "display_name": "Python 3",
   "language": "python",
   "name": "python3"
  },
  "language_info": {
   "codemirror_mode": {
    "name": "ipython",
    "version": 3
   },
   "file_extension": ".py",
   "mimetype": "text/x-python",
   "name": "python",
   "nbconvert_exporter": "python",
   "pygments_lexer": "ipython3",
   "version": "3.6.3"
  }
 },
 "nbformat": 4,
 "nbformat_minor": 2
}
