{
 "cells": [
  {
   "cell_type": "code",
   "execution_count": 1,
   "metadata": {
    "collapsed": true
   },
   "outputs": [],
   "source": [
    "%matplotlib inline\n",
    "import pandas as pd\n",
    "from matplotlib import style\n",
    "import matplotlib.pyplot as plt\n",
    "style.use('Solarize_Light2')"
   ]
  },
  {
   "cell_type": "code",
   "execution_count": 2,
   "metadata": {},
   "outputs": [
    {
     "data": {
      "text/html": [
       "<div>\n",
       "<style scoped>\n",
       "    .dataframe tbody tr th:only-of-type {\n",
       "        vertical-align: middle;\n",
       "    }\n",
       "\n",
       "    .dataframe tbody tr th {\n",
       "        vertical-align: top;\n",
       "    }\n",
       "\n",
       "    .dataframe thead th {\n",
       "        text-align: right;\n",
       "    }\n",
       "</style>\n",
       "<table border=\"1\" class=\"dataframe\">\n",
       "  <thead>\n",
       "    <tr style=\"text-align: right;\">\n",
       "      <th></th>\n",
       "      <th>rate user</th>\n",
       "      <th>rating</th>\n",
       "      <th>version</th>\n",
       "      <th>watcher</th>\n",
       "    </tr>\n",
       "  </thead>\n",
       "  <tbody>\n",
       "    <tr>\n",
       "      <th>0</th>\n",
       "      <td>1641</td>\n",
       "      <td>6.4</td>\n",
       "      <td>1996 JP</td>\n",
       "      <td>2857</td>\n",
       "    </tr>\n",
       "    <tr>\n",
       "      <th>1</th>\n",
       "      <td>7938</td>\n",
       "      <td>8.2</td>\n",
       "      <td>2005 TW</td>\n",
       "      <td>12332</td>\n",
       "    </tr>\n",
       "    <tr>\n",
       "      <th>2</th>\n",
       "      <td>26337</td>\n",
       "      <td>7.4</td>\n",
       "      <td>2010 KR</td>\n",
       "      <td>37270</td>\n",
       "    </tr>\n",
       "    <tr>\n",
       "      <th>3</th>\n",
       "      <td>11644</td>\n",
       "      <td>8.1</td>\n",
       "      <td>2013 JP</td>\n",
       "      <td>18927</td>\n",
       "    </tr>\n",
       "    <tr>\n",
       "      <th>4</th>\n",
       "      <td>3734</td>\n",
       "      <td>8.4</td>\n",
       "      <td>2015 TH</td>\n",
       "      <td>7439</td>\n",
       "    </tr>\n",
       "  </tbody>\n",
       "</table>\n",
       "</div>"
      ],
      "text/plain": [
       "   rate user  rating  version  watcher\n",
       "0       1641     6.4  1996 JP     2857\n",
       "1       7938     8.2  2005 TW    12332\n",
       "2      26337     7.4  2010 KR    37270\n",
       "3      11644     8.1  2013 JP    18927\n",
       "4       3734     8.4  2015 TH     7439"
      ]
     },
     "execution_count": 2,
     "metadata": {},
     "output_type": "execute_result"
    }
   ],
   "source": [
    "data = {\n",
    "    'version': ['1996 JP', '2005 TW', '2010 KR', '2013 JP', '2015 TH'],\n",
    "    'rating': [6.4, 8.2, 7.4, 8.1, 8.4],\n",
    "    'rate user': [1641, 7938, 26337, 11644, 3734],\n",
    "    'watcher': [2857, 12332, 37270, 18927, 7439]\n",
    "}\n",
    "\n",
    "version = pd.DataFrame(data=data)\n",
    "version"
   ]
  },
  {
   "cell_type": "code",
   "execution_count": 3,
   "metadata": {},
   "outputs": [
    {
     "data": {
      "text/html": [
       "<div>\n",
       "<style scoped>\n",
       "    .dataframe tbody tr th:only-of-type {\n",
       "        vertical-align: middle;\n",
       "    }\n",
       "\n",
       "    .dataframe tbody tr th {\n",
       "        vertical-align: top;\n",
       "    }\n",
       "\n",
       "    .dataframe thead th {\n",
       "        text-align: right;\n",
       "    }\n",
       "</style>\n",
       "<table border=\"1\" class=\"dataframe\">\n",
       "  <thead>\n",
       "    <tr style=\"text-align: right;\">\n",
       "      <th></th>\n",
       "      <th>rate user</th>\n",
       "      <th>rating</th>\n",
       "      <th>watcher</th>\n",
       "      <th>feedback rate(%)</th>\n",
       "      <th>just watch</th>\n",
       "    </tr>\n",
       "    <tr>\n",
       "      <th>version</th>\n",
       "      <th></th>\n",
       "      <th></th>\n",
       "      <th></th>\n",
       "      <th></th>\n",
       "      <th></th>\n",
       "    </tr>\n",
       "  </thead>\n",
       "  <tbody>\n",
       "    <tr>\n",
       "      <th>1996 JP</th>\n",
       "      <td>1641</td>\n",
       "      <td>6.4</td>\n",
       "      <td>2857</td>\n",
       "      <td>57.4</td>\n",
       "      <td>1216</td>\n",
       "    </tr>\n",
       "    <tr>\n",
       "      <th>2005 TW</th>\n",
       "      <td>7938</td>\n",
       "      <td>8.2</td>\n",
       "      <td>12332</td>\n",
       "      <td>64.4</td>\n",
       "      <td>4394</td>\n",
       "    </tr>\n",
       "    <tr>\n",
       "      <th>2010 KR</th>\n",
       "      <td>26337</td>\n",
       "      <td>7.4</td>\n",
       "      <td>37270</td>\n",
       "      <td>70.7</td>\n",
       "      <td>10933</td>\n",
       "    </tr>\n",
       "    <tr>\n",
       "      <th>2013 JP</th>\n",
       "      <td>11644</td>\n",
       "      <td>8.1</td>\n",
       "      <td>18927</td>\n",
       "      <td>61.5</td>\n",
       "      <td>7283</td>\n",
       "    </tr>\n",
       "    <tr>\n",
       "      <th>2015 TH</th>\n",
       "      <td>3734</td>\n",
       "      <td>8.4</td>\n",
       "      <td>7439</td>\n",
       "      <td>50.2</td>\n",
       "      <td>3705</td>\n",
       "    </tr>\n",
       "  </tbody>\n",
       "</table>\n",
       "</div>"
      ],
      "text/plain": [
       "         rate user  rating  watcher  feedback rate(%)  just watch\n",
       "version                                                          \n",
       "1996 JP       1641     6.4     2857              57.4        1216\n",
       "2005 TW       7938     8.2    12332              64.4        4394\n",
       "2010 KR      26337     7.4    37270              70.7       10933\n",
       "2013 JP      11644     8.1    18927              61.5        7283\n",
       "2015 TH       3734     8.4     7439              50.2        3705"
      ]
     },
     "execution_count": 3,
     "metadata": {},
     "output_type": "execute_result"
    }
   ],
   "source": [
    "version['feedback rate(%)'] = round(version['rate user'] / version['watcher'], 3) * 100\n",
    "version['just watch'] = version['watcher'] - version['rate user']\n",
    "version_plot = version.set_index('version')\n",
    "version_plot"
   ]
  },
  {
   "cell_type": "code",
   "execution_count": 15,
   "metadata": {},
   "outputs": [
    {
     "name": "stdout",
     "output_type": "stream",
     "text": [
      "Rectangle(xy=(0, -0.25), width=6.4, height=0.5, angle=0)\n",
      "Rectangle(xy=(0, 0.75), width=8.2, height=0.5, angle=0)\n",
      "Rectangle(xy=(0, 1.75), width=7.4, height=0.5, angle=0)\n",
      "Rectangle(xy=(0, 2.75), width=8.1, height=0.5, angle=0)\n",
      "Rectangle(xy=(0, 3.75), width=8.4, height=0.5, angle=0)\n"
     ]
    },
    {
     "data": {
      "image/png": "[encoded data removed]",
      "text/plain": [
       "<matplotlib.figure.Figure at 0x113ade438>"
      ]
     },
     "metadata": {},
     "output_type": "display_data"
    }
   ],
   "source": [
    "version_output = version_plot.plot(kind='barh', y='rating', fontsize=14, figsize=(10, 7))\n",
    "for p in version_output.patches:\n",
    "    print(p)\n",
    "    version_output.annotate(p.get_width(),\n",
    "                            (p.get_x() + p.get_width() - 0.27, p.get_y() + p.get_height() + 0.07))\n",
    "\n",
    "fig = version_output.get_figure()\n",
    "fig.savefig(\"../../images/version_rate.png\")"
   ]
  },
  {
   "cell_type": "code",
   "execution_count": 4,
   "metadata": {},
   "outputs": [
    {
     "name": "stdout",
     "output_type": "stream",
     "text": [
      "Rectangle(xy=(1641, -0.25), width=1216, height=0.5, angle=0)\n",
      "Rectangle(xy=(7938, 0.75), width=4394, height=0.5, angle=0)\n",
      "Rectangle(xy=(26337, 1.75), width=10933, height=0.5, angle=0)\n",
      "Rectangle(xy=(11644, 2.75), width=7283, height=0.5, angle=0)\n",
      "Rectangle(xy=(3734, 3.75), width=3705, height=0.5, angle=0)\n"
     ]
    },
    {
     "data": {
      "image/png": "[encoded data removed]",
      "text/plain": [
       "<matplotlib.figure.Figure at 0x111706ef0>"
      ]
     },
     "metadata": {},
     "output_type": "display_data"
    }
   ],
   "source": [
    "version_feedback = version_plot[['rate user', 'just watch']].plot(kind='barh', \n",
    "                                                                  stacked=True, \n",
    "                                                                  fontsize=14,\n",
    "                                                                  figsize=(10, 7))\n",
    "for i in range(len(version_feedback.patches)):\n",
    "    if i > 4:\n",
    "        b = version_feedback.patches[i]\n",
    "        print(b)\n",
    "        version_feedback.annotate(str(version_plot['feedback rate(%)'][i-5]) + '% users rated after watch', \n",
    "                                  (b.get_x(), b.get_y() + b.get_height() + 0.07))\n",
    "        \n",
    "fig = version_feedback.get_figure()\n",
    "fig.savefig(\"../../images/feedback_rate.png\")"
   ]
  },
  {
   "cell_type": "code",
   "execution_count": 54,
   "metadata": {},
   "outputs": [
    {
     "data": {
      "text/html": [
       "<div>\n",
       "<style scoped>\n",
       "    .dataframe tbody tr th:only-of-type {\n",
       "        vertical-align: middle;\n",
       "    }\n",
       "\n",
       "    .dataframe tbody tr th {\n",
       "        vertical-align: top;\n",
       "    }\n",
       "\n",
       "    .dataframe thead th {\n",
       "        text-align: right;\n",
       "    }\n",
       "</style>\n",
       "<table border=\"1\" class=\"dataframe\">\n",
       "  <thead>\n",
       "    <tr style=\"text-align: right;\">\n",
       "      <th></th>\n",
       "      <th>name</th>\n",
       "      <th>vote</th>\n",
       "      <th>overall</th>\n",
       "      <th>story</th>\n",
       "      <th>cast</th>\n",
       "      <th>music</th>\n",
       "      <th>rewatch</th>\n",
       "    </tr>\n",
       "  </thead>\n",
       "  <tbody>\n",
       "    <tr>\n",
       "      <th>0</th>\n",
       "      <td>Jeaniessi</td>\n",
       "      <td>116</td>\n",
       "      <td>3.0</td>\n",
       "      <td>3.0</td>\n",
       "      <td>8.0</td>\n",
       "      <td>7.0</td>\n",
       "      <td>3.0</td>\n",
       "    </tr>\n",
       "    <tr>\n",
       "      <th>1</th>\n",
       "      <td>JohnGilbert</td>\n",
       "      <td>37</td>\n",
       "      <td>10.0</td>\n",
       "      <td>9.0</td>\n",
       "      <td>10.0</td>\n",
       "      <td>10.0</td>\n",
       "      <td>10.0</td>\n",
       "    </tr>\n",
       "    <tr>\n",
       "      <th>2</th>\n",
       "      <td>Rourou</td>\n",
       "      <td>33</td>\n",
       "      <td>8.0</td>\n",
       "      <td>8.0</td>\n",
       "      <td>8.0</td>\n",
       "      <td>8.0</td>\n",
       "      <td>7.0</td>\n",
       "    </tr>\n",
       "    <tr>\n",
       "      <th>3</th>\n",
       "      <td>bubblefaerie</td>\n",
       "      <td>14</td>\n",
       "      <td>8.0</td>\n",
       "      <td>8.0</td>\n",
       "      <td>8.5</td>\n",
       "      <td>4.5</td>\n",
       "      <td>3.5</td>\n",
       "    </tr>\n",
       "    <tr>\n",
       "      <th>4</th>\n",
       "      <td>SeRose</td>\n",
       "      <td>24</td>\n",
       "      <td>7.0</td>\n",
       "      <td>6.0</td>\n",
       "      <td>7.0</td>\n",
       "      <td>6.0</td>\n",
       "      <td>7.0</td>\n",
       "    </tr>\n",
       "  </tbody>\n",
       "</table>\n",
       "</div>"
      ],
      "text/plain": [
       "           name  vote  overall  story  cast  music  rewatch\n",
       "0     Jeaniessi   116      3.0    3.0   8.0    7.0      3.0\n",
       "1   JohnGilbert    37     10.0    9.0  10.0   10.0     10.0\n",
       "2        Rourou    33      8.0    8.0   8.0    8.0      7.0\n",
       "3  bubblefaerie    14      8.0    8.0   8.5    4.5      3.5\n",
       "4        SeRose    24      7.0    6.0   7.0    6.0      7.0"
      ]
     },
     "execution_count": 54,
     "metadata": {},
     "output_type": "execute_result"
    }
   ],
   "source": [
    "korea_v = pd.read_csv('review.csv')\n",
    "korea_v.head()"
   ]
  },
  {
   "cell_type": "code",
   "execution_count": 23,
   "metadata": {},
   "outputs": [
    {
     "data": {
      "text/html": [
       "<div>\n",
       "<style scoped>\n",
       "    .dataframe tbody tr th:only-of-type {\n",
       "        vertical-align: middle;\n",
       "    }\n",
       "\n",
       "    .dataframe tbody tr th {\n",
       "        vertical-align: top;\n",
       "    }\n",
       "\n",
       "    .dataframe thead th {\n",
       "        text-align: right;\n",
       "    }\n",
       "</style>\n",
       "<table border=\"1\" class=\"dataframe\">\n",
       "  <thead>\n",
       "    <tr style=\"text-align: right;\">\n",
       "      <th></th>\n",
       "      <th>vote</th>\n",
       "      <th>overall</th>\n",
       "      <th>story</th>\n",
       "      <th>cast</th>\n",
       "      <th>music</th>\n",
       "      <th>rewatch</th>\n",
       "    </tr>\n",
       "  </thead>\n",
       "  <tbody>\n",
       "    <tr>\n",
       "      <th>0</th>\n",
       "      <td>116</td>\n",
       "      <td>3.0</td>\n",
       "      <td>3.0</td>\n",
       "      <td>8.0</td>\n",
       "      <td>7.0</td>\n",
       "      <td>3.0</td>\n",
       "    </tr>\n",
       "    <tr>\n",
       "      <th>1</th>\n",
       "      <td>37</td>\n",
       "      <td>10.0</td>\n",
       "      <td>9.0</td>\n",
       "      <td>10.0</td>\n",
       "      <td>10.0</td>\n",
       "      <td>10.0</td>\n",
       "    </tr>\n",
       "    <tr>\n",
       "      <th>2</th>\n",
       "      <td>33</td>\n",
       "      <td>8.0</td>\n",
       "      <td>8.0</td>\n",
       "      <td>8.0</td>\n",
       "      <td>8.0</td>\n",
       "      <td>7.0</td>\n",
       "    </tr>\n",
       "    <tr>\n",
       "      <th>3</th>\n",
       "      <td>14</td>\n",
       "      <td>8.0</td>\n",
       "      <td>8.0</td>\n",
       "      <td>8.5</td>\n",
       "      <td>4.5</td>\n",
       "      <td>3.5</td>\n",
       "    </tr>\n",
       "    <tr>\n",
       "      <th>4</th>\n",
       "      <td>24</td>\n",
       "      <td>7.0</td>\n",
       "      <td>6.0</td>\n",
       "      <td>7.0</td>\n",
       "      <td>6.0</td>\n",
       "      <td>7.0</td>\n",
       "    </tr>\n",
       "  </tbody>\n",
       "</table>\n",
       "</div>"
      ],
      "text/plain": [
       "   vote  overall  story  cast  music  rewatch\n",
       "0   116      3.0    3.0   8.0    7.0      3.0\n",
       "1    37     10.0    9.0  10.0   10.0     10.0\n",
       "2    33      8.0    8.0   8.0    8.0      7.0\n",
       "3    14      8.0    8.0   8.5    4.5      3.5\n",
       "4    24      7.0    6.0   7.0    6.0      7.0"
      ]
     },
     "execution_count": 23,
     "metadata": {},
     "output_type": "execute_result"
    }
   ],
   "source": [
    "korea_r =korea_v.drop(columns=['name'])\n",
    "korea_r.head()"
   ]
  },
  {
   "cell_type": "code",
   "execution_count": 24,
   "metadata": {},
   "outputs": [
    {
     "data": {
      "text/plain": [
       "vote       6.680851\n",
       "overall    6.702128\n",
       "story      6.547872\n",
       "cast       7.101064\n",
       "music      7.207447\n",
       "rewatch    5.898936\n",
       "dtype: float64"
      ]
     },
     "execution_count": 24,
     "metadata": {},
     "output_type": "execute_result"
    }
   ],
   "source": [
    "korea_review_mean = korea_r.mean()\n",
    "korea_review_mean"
   ]
  },
  {
   "cell_type": "code",
   "execution_count": 25,
   "metadata": {},
   "outputs": [
    {
     "data": {
      "text/plain": [
       "vote       8.051282\n",
       "overall    6.679487\n",
       "story      6.493590\n",
       "cast       7.185897\n",
       "music      7.211538\n",
       "rewatch    5.858974\n",
       "dtype: float64"
      ]
     },
     "execution_count": 25,
     "metadata": {},
     "output_type": "execute_result"
    }
   ],
   "source": [
    "korea_vote_mean = korea_r.loc[korea_r['vote'] > 0].mean()\n",
    "korea_vote_mean"
   ]
  },
  {
   "cell_type": "code",
   "execution_count": 26,
   "metadata": {},
   "outputs": [
    {
     "data": {
      "text/plain": [
       "vote       116.0\n",
       "overall     10.0\n",
       "story       10.0\n",
       "cast        10.0\n",
       "music       10.0\n",
       "rewatch     10.0\n",
       "dtype: float64"
      ]
     },
     "execution_count": 26,
     "metadata": {},
     "output_type": "execute_result"
    }
   ],
   "source": [
    "korea_max = korea_r.max()\n",
    "korea_max"
   ]
  },
  {
   "cell_type": "code",
   "execution_count": 27,
   "metadata": {
    "collapsed": true
   },
   "outputs": [],
   "source": [
    "korea_min = korea_r.min()"
   ]
  },
  {
   "cell_type": "code",
   "execution_count": 28,
   "metadata": {},
   "outputs": [
    {
     "data": {
      "text/html": [
       "<div>\n",
       "<style scoped>\n",
       "    .dataframe tbody tr th:only-of-type {\n",
       "        vertical-align: middle;\n",
       "    }\n",
       "\n",
       "    .dataframe tbody tr th {\n",
       "        vertical-align: top;\n",
       "    }\n",
       "\n",
       "    .dataframe thead th {\n",
       "        text-align: right;\n",
       "    }\n",
       "</style>\n",
       "<table border=\"1\" class=\"dataframe\">\n",
       "  <thead>\n",
       "    <tr style=\"text-align: right;\">\n",
       "      <th></th>\n",
       "      <th>0</th>\n",
       "    </tr>\n",
       "  </thead>\n",
       "  <tbody>\n",
       "    <tr>\n",
       "      <th>vote</th>\n",
       "      <td>116.0</td>\n",
       "    </tr>\n",
       "    <tr>\n",
       "      <th>overall</th>\n",
       "      <td>3.0</td>\n",
       "    </tr>\n",
       "    <tr>\n",
       "      <th>story</th>\n",
       "      <td>3.0</td>\n",
       "    </tr>\n",
       "    <tr>\n",
       "      <th>cast</th>\n",
       "      <td>8.0</td>\n",
       "    </tr>\n",
       "    <tr>\n",
       "      <th>music</th>\n",
       "      <td>7.0</td>\n",
       "    </tr>\n",
       "    <tr>\n",
       "      <th>rewatch</th>\n",
       "      <td>3.0</td>\n",
       "    </tr>\n",
       "  </tbody>\n",
       "</table>\n",
       "</div>"
      ],
      "text/plain": [
       "             0\n",
       "vote     116.0\n",
       "overall    3.0\n",
       "story      3.0\n",
       "cast       8.0\n",
       "music      7.0\n",
       "rewatch    3.0"
      ]
     },
     "execution_count": 28,
     "metadata": {},
     "output_type": "execute_result"
    }
   ],
   "source": [
    "korea_max_vote_rate = korea_r.loc[korea_r['vote'] == korea_r['vote'].max()].T\n",
    "korea_max_vote_rate"
   ]
  },
  {
   "cell_type": "code",
   "execution_count": 29,
   "metadata": {},
   "outputs": [
    {
     "data": {
      "text/html": [
       "<div>\n",
       "<style scoped>\n",
       "    .dataframe tbody tr th:only-of-type {\n",
       "        vertical-align: middle;\n",
       "    }\n",
       "\n",
       "    .dataframe tbody tr th {\n",
       "        vertical-align: top;\n",
       "    }\n",
       "\n",
       "    .dataframe thead th {\n",
       "        text-align: right;\n",
       "    }\n",
       "</style>\n",
       "<table border=\"1\" class=\"dataframe\">\n",
       "  <thead>\n",
       "    <tr style=\"text-align: right;\">\n",
       "      <th></th>\n",
       "      <th>avg_rating</th>\n",
       "      <th>avg_rating_with_vote</th>\n",
       "    </tr>\n",
       "  </thead>\n",
       "  <tbody>\n",
       "    <tr>\n",
       "      <th>vote</th>\n",
       "      <td>6.680851</td>\n",
       "      <td>8.051282</td>\n",
       "    </tr>\n",
       "    <tr>\n",
       "      <th>overall</th>\n",
       "      <td>6.702128</td>\n",
       "      <td>6.679487</td>\n",
       "    </tr>\n",
       "    <tr>\n",
       "      <th>story</th>\n",
       "      <td>6.547872</td>\n",
       "      <td>6.493590</td>\n",
       "    </tr>\n",
       "    <tr>\n",
       "      <th>cast</th>\n",
       "      <td>7.101064</td>\n",
       "      <td>7.185897</td>\n",
       "    </tr>\n",
       "    <tr>\n",
       "      <th>music</th>\n",
       "      <td>7.207447</td>\n",
       "      <td>7.211538</td>\n",
       "    </tr>\n",
       "    <tr>\n",
       "      <th>rewatch</th>\n",
       "      <td>5.898936</td>\n",
       "      <td>5.858974</td>\n",
       "    </tr>\n",
       "  </tbody>\n",
       "</table>\n",
       "</div>"
      ],
      "text/plain": [
       "         avg_rating  avg_rating_with_vote\n",
       "vote       6.680851              8.051282\n",
       "overall    6.702128              6.679487\n",
       "story      6.547872              6.493590\n",
       "cast       7.101064              7.185897\n",
       "music      7.207447              7.211538\n",
       "rewatch    5.898936              5.858974"
      ]
     },
     "execution_count": 29,
     "metadata": {},
     "output_type": "execute_result"
    }
   ],
   "source": [
    "output_data = pd.concat([korea_review_mean, korea_vote_mean], axis=1, keys=['avg_rating', 'avg_rating_with_vote'])\n",
    "output_data"
   ]
  },
  {
   "cell_type": "code",
   "execution_count": 31,
   "metadata": {},
   "outputs": [
    {
     "data": {
      "text/html": [
       "<div>\n",
       "<style scoped>\n",
       "    .dataframe tbody tr th:only-of-type {\n",
       "        vertical-align: middle;\n",
       "    }\n",
       "\n",
       "    .dataframe tbody tr th {\n",
       "        vertical-align: top;\n",
       "    }\n",
       "\n",
       "    .dataframe thead th {\n",
       "        text-align: right;\n",
       "    }\n",
       "</style>\n",
       "<table border=\"1\" class=\"dataframe\">\n",
       "  <thead>\n",
       "    <tr style=\"text-align: right;\">\n",
       "      <th></th>\n",
       "      <th>Average Rating</th>\n",
       "      <th>Average Rating Get Vote From Other User</th>\n",
       "      <th>Rating Get Most Vote</th>\n",
       "    </tr>\n",
       "  </thead>\n",
       "  <tbody>\n",
       "    <tr>\n",
       "      <th>overall</th>\n",
       "      <td>6.702128</td>\n",
       "      <td>6.679487</td>\n",
       "      <td>3.0</td>\n",
       "    </tr>\n",
       "    <tr>\n",
       "      <th>story</th>\n",
       "      <td>6.547872</td>\n",
       "      <td>6.493590</td>\n",
       "      <td>3.0</td>\n",
       "    </tr>\n",
       "    <tr>\n",
       "      <th>cast</th>\n",
       "      <td>7.101064</td>\n",
       "      <td>7.185897</td>\n",
       "      <td>8.0</td>\n",
       "    </tr>\n",
       "    <tr>\n",
       "      <th>music</th>\n",
       "      <td>7.207447</td>\n",
       "      <td>7.211538</td>\n",
       "      <td>7.0</td>\n",
       "    </tr>\n",
       "    <tr>\n",
       "      <th>rewatch</th>\n",
       "      <td>5.898936</td>\n",
       "      <td>5.858974</td>\n",
       "      <td>3.0</td>\n",
       "    </tr>\n",
       "  </tbody>\n",
       "</table>\n",
       "</div>"
      ],
      "text/plain": [
       "         Average Rating  Average Rating Get Vote From Other User  \\\n",
       "overall        6.702128                                 6.679487   \n",
       "story          6.547872                                 6.493590   \n",
       "cast           7.101064                                 7.185897   \n",
       "music          7.207447                                 7.211538   \n",
       "rewatch        5.898936                                 5.858974   \n",
       "\n",
       "         Rating Get Most Vote  \n",
       "overall                   3.0  \n",
       "story                     3.0  \n",
       "cast                      8.0  \n",
       "music                     7.0  \n",
       "rewatch                   3.0  "
      ]
     },
     "execution_count": 31,
     "metadata": {},
     "output_type": "execute_result"
    }
   ],
   "source": [
    "output_df = output_data.join(korea_max_vote_rate)\n",
    "output_v = output_df.drop(['vote'])\n",
    "output_v.columns = ['Average Rating', 'Average Rating Get Vote From Other User', 'Rating Get Most Vote']\n",
    "output_v"
   ]
  },
  {
   "cell_type": "code",
   "execution_count": 47,
   "metadata": {},
   "outputs": [
    {
     "data": {
      "image/png": "[encoded data removed]",
      "text/plain": [
       "<matplotlib.figure.Figure at 0x11eacf978>"
      ]
     },
     "metadata": {},
     "output_type": "display_data"
    }
   ],
   "source": [
    "output_graph = output_v.plot(kind='bar', figsize=(10, 7), rot=0, fontsize=14)\n",
    "fig = output_graph.get_figure()\n",
    "fig.savefig(\"../../images/average_rating.png\")"
   ]
  },
  {
   "cell_type": "code",
   "execution_count": null,
   "metadata": {
    "collapsed": true
   },
   "outputs": [],
   "source": []
  }
 ],
 "metadata": {
  "kernelspec": {
   "display_name": "Python 3",
   "language": "python",
   "name": "python3"
  },
  "language_info": {
   "codemirror_mode": {
    "name": "ipython",
    "version": 3
   },
   "file_extension": ".py",
   "mimetype": "text/x-python",
   "name": "python",
   "nbconvert_exporter": "python",
   "pygments_lexer": "ipython3",
   "version": "3.6.3"
  }
 },
 "nbformat": 4,
 "nbformat_minor": 2
}
